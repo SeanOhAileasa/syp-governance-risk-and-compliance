{
 "cells": [
  {
   "cell_type": "markdown",
   "id": "d4ee9e4b",
   "metadata": {},
   "source": [
    "***\n",
    "< [Home](https://github.com/SeanOhAileasa) | [README](https://github.com/SeanOhAileasa/syp-governance-risk-and-compliance/blob/main/README.md) >\n",
    "\n",
    "## CompTIA Security+ - Course Material 2022\n",
    "###### Topic: ``Security Controls``\n",
    "***"
   ]
  },
  {
   "cell_type": "markdown",
   "id": "b82b07fb",
   "metadata": {},
   "source": [
    "Course material for the ``CompTIA Security+`` module of the ``ICT Associate Apprenticeship (Cybersecurity)`` programme."
   ]
  },
  {
   "cell_type": "markdown",
   "id": "e7228f57",
   "metadata": {},
   "source": [
    "<a id=\"top\"></a>\n",
    "***\n",
    "## Table of Contents\n",
    "***"
   ]
  },
  {
   "cell_type": "markdown",
   "id": "c2bb5e7b",
   "metadata": {},
   "source": [
    "### [Security Controls](#a) <br/><br/>\n",
    "\n",
    "- [Control Categories](#b) <br/><br/>\n",
    "    - [Managerial Control](#b) <br/><br/>\n",
    "    - [Operational Control](#b) <br/><br/>\n",
    "    - [Technical Control](#b) <br/><br/>\n",
    "- [Control Types](#c) <br/><br/>\n",
    "\t- [Preventive](#c) <br/><br/>\n",
    "\t- [Detective](#c) <br/><br/>\n",
    "\t- [Corrective](#c) <br/><br/>\n",
    "\t- [Detterant](#c) <br/><br/>\n",
    "\t- [Compensating](#c) <br/><br/>\n",
    "\t- [Physical](#c) \n",
    "<hr width=50%;>"
   ]
  },
  {
   "cell_type": "markdown",
   "id": "bf2b95e2",
   "metadata": {},
   "source": [
    "***\n",
    "## END"
   ]
  },
  {
   "cell_type": "markdown",
   "id": "34aa6eb5",
   "metadata": {},
   "source": [
    "< [Table of Contents](#top) | [References](#references) >\n",
    "<a id=\"a\"></a>\n",
    "***\n",
    "### Security Controls\n",
    "***"
   ]
  },
  {
   "cell_type": "markdown",
   "id": "f9878bae",
   "metadata": {},
   "source": [
    "As IT security professionals, you will be asked to manage many different kinds of risks that you would have in the workplace - these risks may be associated with the data that’s on our systems, they might be physical property that we have at our facilities, or they may be the computer systems themselves. \n",
    "\n",
    "Our goals then are to prevent security events, if possible, to limit the impact of any events that do occur and to limit any damage that might be caused.\n",
    "\n",
    "Able to provide all of this through the use of security controls. "
   ]
  },
  {
   "cell_type": "markdown",
   "id": "84b00380",
   "metadata": {},
   "source": [
    "< [Table of Contents](#top) | [References](#references) >\n",
    "<a id=\"b\"></a>\n",
    "***\n",
    "###### Control Categories\n",
    "***"
   ]
  },
  {
   "cell_type": "markdown",
   "id": "711be9dd",
   "metadata": {},
   "source": [
    "We put security controls into three major categories:\n",
    "\n",
    "> ``Managerial Control`` \n",
    "\n",
    "- This is a control that focuses on the design of the security or the policy implementation associated with the security, so might have a set of security policies for our organization or set of standard operating procedures that everyone is expected to follow.\n",
    "\n",
    "> ``Operational Control``\n",
    "\n",
    "- These are controls that are managed by people - if we have security guards posted at the front door or we have an awareness program to let people know that phishing is a significant concern, these would be operational controls.\n",
    "\n",
    "> ``Technical Control``\n",
    "\n",
    "- Can use our own systems to prevent some of these security events from occurring, these would be technical controls, so if you’ve implemented anti-virus on your workstations or there’s a firewall connecting you to the internet, you would consider these technical controls."
   ]
  },
  {
   "cell_type": "markdown",
   "id": "b4da2efe",
   "metadata": {},
   "source": [
    "< [Table of Contents](#top) | [References](#references) >\n",
    "<a id=\"c\"></a>\n",
    "***\n",
    "###### Control Types\n",
    "***"
   ]
  },
  {
   "cell_type": "markdown",
   "id": "515bd8ce",
   "metadata": {},
   "source": [
    "Listing some common control types - what’s interesting about these control types is a certain technology could fit into multiple control types.\n",
    "\n",
    "> ``Preventive``\n",
    "\n",
    "This would be something that prevents access to a particular area, something like locks on a door or a security guard would certainly prevent access as would a firewall, especially if we have a connection to the internet.\n",
    "\n",
    "> ``Detective``\n",
    "\n",
    "A detective control type commonly identifies and is able to record that a security event has occurred, but it may not be able to prevent access - if you have a motion detector, it can certainly identify that motion is there, but it’s not able to stop someone from walking through the room. Same thing might apply to an IDS, which is set to alarm or alert if it identifies malicious software on the network but an IDS is designed to only detect that traffic flow and not prevent that traffic flow. \n",
    "\n",
    "> ``Corrective``\n",
    "\n",
    "A corrective control is designed to mitigate any damage that was occurred because of a security event, for example in IPS, intrusion prevention system can identify an attack on the network and block that traffic from entering the rest of the network or devices on your site are infected with ransomware one way to correct that problem, through this corrective control, is to simply restore from a known good backup. On a larger scale if a storms hit and power has gone out, you can move everything over to a backup site and maintain the uptime and availability through that corrective control.\n",
    "\n",
    "> ``Detterant``\n",
    "\n",
    "A deterrent may not stop an intrusion from occurring but it may deter someone from performing an intrusion, for example, if there’s a Warning sign that would let people know that you were watching for any type of problem - there could be a login banner and a sign in page that lets people know that you’re watching for the logins or there might be lights around your building that might deter someone from breaking in.\n",
    "\n",
    "> ``Compensating``\n",
    "\n",
    "A compensating control attempts to recover from an intrusion by compensating for the issues that were left behind, for example, if someone stole a laptop with all of our data, we could compensate for that by purchasing a new laptop and restoring that data from backup - if someone cut the power to our data center, we could have backup power systems or generators that would compensate for that lack of power.\n",
    "\n",
    "> ``Physical``\n",
    "\n",
    "A physical control type is something we would have in the real world that would prevent the security event, something like a fence or a door lock would certainly prevent someone from physically gaining access to our facility."
   ]
  },
  {
   "cell_type": "markdown",
   "id": "2cc20932",
   "metadata": {},
   "source": [
    "***\n",
    "## END"
   ]
  },
  {
   "cell_type": "markdown",
   "id": "e0e42d51",
   "metadata": {},
   "source": [
    "< [Table of Contents](#top) >\n",
    "<a id=\"references\"></a>\n",
    "***\n",
    "## References\n",
    "***"
   ]
  },
  {
   "cell_type": "markdown",
   "id": "f8aaecbc",
   "metadata": {},
   "source": [
    "J. \"Professor\" Messer, \"CompTIA Security+ (SY0-601) Course Notes,\" [professormesser.com](https://web.archive.org/web/20220521181010/https://www.professormesser.com/security-plus/sy0-601/sy0-601-video/sy0-601-comptia-security-plus-course/), September 2021."
   ]
  },
  {
   "cell_type": "markdown",
   "id": "b33c372a",
   "metadata": {},
   "source": [
    "***\n",
    "## END"
   ]
  },
  {
   "cell_type": "markdown",
   "id": "e5961b4d",
   "metadata": {},
   "source": [
    "< [Table of Contents](#top) | [References](#references) >\n",
    "<a id=\"appendix\"></a>\n",
    "***\n",
    "## Appendix\n",
    "***"
   ]
  },
  {
   "cell_type": "markdown",
   "id": "00d82a82",
   "metadata": {},
   "source": [
    "***\n",
    "## END"
   ]
  },
  {
   "cell_type": "code",
   "execution_count": 1,
   "id": "706756a2",
   "metadata": {},
   "outputs": [
    {
     "name": "stderr",
     "output_type": "stream",
     "text": [
      "C:\\Users\\SeanOhAileasa\\AppData\\Local\\Temp\\ipykernel_3048\\1322614208.py:1: DeprecationWarning: Importing display from IPython.core.display is deprecated since IPython 7.14, please import from IPython display\n",
      "  from IPython.core.display import display,HTML\n"
     ]
    },
    {
     "data": {
      "text/html": [
       "<style>.container { width:100% !important; }</style>"
      ],
      "text/plain": [
       "<IPython.core.display.HTML object>"
      ]
     },
     "metadata": {},
     "output_type": "display_data"
    }
   ],
   "source": [
    "from IPython.core.display import display,HTML\n",
    "display(HTML(\"<style>.container { width:100% !important; }</style>\"))"
   ]
  },
  {
   "cell_type": "markdown",
   "id": "899c1783",
   "metadata": {},
   "source": [
    "# END JUPYTER NOTEBOOK"
   ]
  }
 ],
 "metadata": {
  "kernelspec": {
   "display_name": "Python 3 (ipykernel)",
   "language": "python",
   "name": "python3"
  },
  "language_info": {
   "codemirror_mode": {
    "name": "ipython",
    "version": 3
   },
   "file_extension": ".py",
   "mimetype": "text/x-python",
   "name": "python",
   "nbconvert_exporter": "python",
   "pygments_lexer": "ipython3",
   "version": "3.9.12"
  }
 },
 "nbformat": 4,
 "nbformat_minor": 5
}
