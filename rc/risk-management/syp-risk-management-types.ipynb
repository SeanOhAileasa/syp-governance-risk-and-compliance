{
 "cells": [
  {
   "cell_type": "markdown",
   "id": "d4ee9e4b",
   "metadata": {},
   "source": [
    "***\n",
    "< [Home](https://github.com/SeanOhAileasa) | [README](https://github.com/SeanOhAileasa/syp-governance-risk-and-compliance/blob/main/README.md) >\n",
    "\n",
    "## CompTIA Security+ - Course Material 2022\n",
    "###### Topic: ``Risk Management Types``\n",
    "***"
   ]
  },
  {
   "cell_type": "markdown",
   "id": "b82b07fb",
   "metadata": {},
   "source": [
    "Course material for the ``CompTIA Security+`` module of the ``ICT Associate Apprenticeship (Cybersecurity)`` programme."
   ]
  },
  {
   "cell_type": "markdown",
   "id": "e7228f57",
   "metadata": {},
   "source": [
    "<a id=\"top\"></a>\n",
    "***\n",
    "## Table of Contents\n",
    "***"
   ]
  },
  {
   "cell_type": "markdown",
   "id": "c2bb5e7b",
   "metadata": {},
   "source": [
    "### [Risk Management Types](#a) <br/><br/>\n",
    "\n",
    "- [Risk Assessment](#b) <br/><br/>\n",
    "- [Multi-party Risk](#c) <br/><br/>\n",
    "    - [May 2019](#c) <br/><br/>\n",
    "        - [American Medical Collection Agency](#c) <br/><br/>\n",
    "- [Theft](#d) <br/><br/>\n",
    "    - [Intellectual Property](#d) <br/><br/>\n",
    "        - [``IP``](#d) <br/><br/>\n",
    "- [Software Compliance / Licensing](#e) <br/><br/>\n",
    "- [Risk Management Strategies](#f) \n",
    "<hr width=50%;>"
   ]
  },
  {
   "cell_type": "markdown",
   "id": "bf2b95e2",
   "metadata": {},
   "source": [
    "***\n",
    "## END"
   ]
  },
  {
   "cell_type": "markdown",
   "id": "34aa6eb5",
   "metadata": {},
   "source": [
    "< [Table of Contents](#top) | [References](#references) >\n",
    "<a id=\"a\"></a>\n",
    "***\n",
    "### Risk Management Types\n",
    "***"
   ]
  },
  {
   "cell_type": "markdown",
   "id": "84b00380",
   "metadata": {},
   "source": [
    "< [Table of Contents](#top) | [References](#references) >\n",
    "<a id=\"b\"></a>\n",
    "***\n",
    "###### Risk Assessment\n",
    "***"
   ]
  },
  {
   "cell_type": "markdown",
   "id": "3f3d61d4",
   "metadata": {},
   "source": [
    "If assessing risk in your organization, then you need to identify all of the assets that could be affected by some type of security event - if you know the risk associated with the asset, you can then start making business decisions on how to better protect that asset. \n",
    "\n",
    "This might be hardware that you own, it could be customer data that you have in a database, or it could be the intellectual property of your organization. \n",
    "\n",
    "Should also understand what the results of this threat might be - may lose data if we have a particular security event, there could be a disruption of services especially if there’s a denial of service or an outage of some kind, and all of these need to be considered when we’re deciding how to deal with risk in our organization.\n",
    "\n",
    "Should also determine the severity of the risk - is this something that has a very low risk, or is this something with a very high risk - that’s certainly going to affect what plans we put in place associated with that risk. \n",
    "\n",
    "Need to consider the total risk for the entire organization, including this risk going forward. Things that happened today can have long lasting repercussions, and we need to have the right security tools and processes in place to deal with these risky situations.\n",
    "\n",
    "Many times we think of risk as something that’s external - this might be a hacker group that’s trying to gain access to our data, or this might be a former employee who has an understanding of our infrastructure and they’re using that knowledge for their own personal gain. \n",
    "\n",
    "These threats could also be inside your organization as well - might be the employees who are coming to work every day and sitting at a desk inside of your building, or it could be partners who are taking advantage of the access they already have to your network.\n",
    "\n",
    "Often hear of disgruntled employees who have access to the internals of our network and they use this access to create a security event. \n",
    "\n",
    "If you don’t pay attention to the assets that you currently have, those assets could be used against you - if you have legacy systems that may be running outdated operating systems, or older software, you may find that those devices are no longer supported by the manufacturer and there may be some significant security concerns with the software that’s running on those systems. As these devices become older, it becomes even more difficult to find security patches and it’s often better that we replace these legacy systems with something that can be better supported."
   ]
  },
  {
   "cell_type": "markdown",
   "id": "b4da2efe",
   "metadata": {},
   "source": [
    "< [Table of Contents](#top) | [References](#references) >\n",
    "<a id=\"c\"></a>\n",
    "***\n",
    "###### Multi-party Risk - May 2019 - American Medical Collection Agency\n",
    "***"
   ]
  },
  {
   "cell_type": "markdown",
   "id": "ed1e8c5b",
   "metadata": {},
   "source": [
    "Sometimes security breaches may involve more than just one entity. \n",
    "\n",
    "It could be that your organization and many others are involved because all of your networks are connected in some way. \n",
    "\n",
    "An example of this occurred in May of 2019 with the American Medical Collection Agency - this was an organization that provided debt collection for many different organizations and they had a data breach on 24 million individuals - this collection agency handled services for 23 health care organizations, so that one data breach now affected 23 other companies who then had to reach out to their customers and let them know that their data had been compromised."
   ]
  },
  {
   "cell_type": "markdown",
   "id": "7b10c3a2",
   "metadata": {},
   "source": [
    "< [Table of Contents](#top) | [References](#references) >\n",
    "<a id=\"d\"></a>\n",
    "***\n",
    "###### Theft - Intellectual Property - ``IP``\n",
    "***"
   ]
  },
  {
   "cell_type": "markdown",
   "id": "8d7f5cfe",
   "metadata": {},
   "source": [
    "Intellectual property theft, and this can be significant if your organization has a lot of IP’s such as ideas, inventions, and creative expressions. \n",
    "\n",
    "Third-parties could gain access to your intellectual property through no fault of your own - could be that someone has a mistake in how they set up permissions in the cloud and now all of that information is available to the world, or it might be someone who is actively hacking your systems in order to find this intellectual property, or it may just be someone inside the company who has access who decides to take advantage of that access. \n",
    "\n",
    "If you haven’t already identified what intellectual property you might have, that would be a great place to start so that you can then protect that IP and you want to be sure that you educate your employees and increase your security as it relates to this intellectual property."
   ]
  },
  {
   "cell_type": "markdown",
   "id": "1ce9ff85",
   "metadata": {},
   "source": [
    "< [Table of Contents](#top) | [References](#references) >\n",
    "<a id=\"e\"></a>\n",
    "***\n",
    "###### Software Compliance / Licensing\n",
    "***"
   ]
  },
  {
   "cell_type": "markdown",
   "id": "3e40f587",
   "metadata": {},
   "source": [
    "Another risky area of concern is the software compliance in your organization, or how you handle application licensing. \n",
    "\n",
    "Don’t want to be in a situation where you have too few licenses and your employees aren’t able to do their job, or perhaps even worse you’ve spent way too much money purchasing licenses that are unneeded in your organization - if you’re not following the correct licensing, you’re either losing money by overpaying or losing money by not having the resources you need. It’s important to understand exactly what your licensing requirements are and that you’re purchasing and managing those properly."
   ]
  },
  {
   "cell_type": "markdown",
   "id": "d87809fd",
   "metadata": {},
   "source": [
    "< [Table of Contents](#top) | [References](#references) >\n",
    "<a id=\"f\"></a>\n",
    "***\n",
    "###### Risk Management Strategies\n",
    "***"
   ]
  },
  {
   "cell_type": "markdown",
   "id": "9030488f",
   "metadata": {},
   "source": [
    "Understand the risk:\n",
    "\n",
    "> How do you manage that risk? \n",
    "\n",
    "It may be that you manage it by saying, we’re fine with where we are and we’re not going to make any other changes, for example, you know that there could be a third-party that would perform a phishing attack against your organization, but you already have anti-phishing software installed on everyone’s machines. \n",
    "\n",
    "Could decide to train everyone specifically on the concerns associated with phishing, but there of course is a financial requirement for that, so you could decide to accept the existing risk and instead of training your users you’ll instead rely on your software.\n",
    "\n",
    "Could also make changes to your business processes so that you no longer are participating in these risky activities, for example, you could choose to stop using certain outdated applications in your environment and instead use alternatives. \n",
    "\n",
    "Some organizations are very concerned about risk, especially as it involves malware and ransomware - instead of taking the full risk of those situations should they occur, they’ll instead choose to purchase cybersecurity insurance which might help financially if one of those events does occur. \n",
    "\n",
    "Maybe that we decide to decrease the risk level through mitigation, we can purchase additional software and hardware to help prevent these types of security events from occurring."
   ]
  },
  {
   "cell_type": "markdown",
   "id": "2cc20932",
   "metadata": {},
   "source": [
    "***\n",
    "## END"
   ]
  },
  {
   "cell_type": "markdown",
   "id": "e0e42d51",
   "metadata": {},
   "source": [
    "< [Table of Contents](#top) >\n",
    "<a id=\"references\"></a>\n",
    "***\n",
    "## References\n",
    "***"
   ]
  },
  {
   "cell_type": "markdown",
   "id": "f8aaecbc",
   "metadata": {},
   "source": [
    "J. \"Professor\" Messer, \"CompTIA Security+ (SY0-601) Course Notes,\" [professormesser.com](https://web.archive.org/web/20220521181010/https://www.professormesser.com/security-plus/sy0-601/sy0-601-video/sy0-601-comptia-security-plus-course/), September 2021."
   ]
  },
  {
   "cell_type": "markdown",
   "id": "b33c372a",
   "metadata": {},
   "source": [
    "***\n",
    "## END"
   ]
  },
  {
   "cell_type": "markdown",
   "id": "e5961b4d",
   "metadata": {},
   "source": [
    "< [Table of Contents](#top) | [References](#references) >\n",
    "<a id=\"appendix\"></a>\n",
    "***\n",
    "## Appendix\n",
    "***"
   ]
  },
  {
   "cell_type": "markdown",
   "id": "00d82a82",
   "metadata": {},
   "source": [
    "***\n",
    "## END"
   ]
  },
  {
   "cell_type": "code",
   "execution_count": 1,
   "id": "706756a2",
   "metadata": {},
   "outputs": [
    {
     "name": "stderr",
     "output_type": "stream",
     "text": [
      "C:\\Users\\SeanOhAileasa\\AppData\\Local\\Temp\\ipykernel_15908\\1322614208.py:1: DeprecationWarning: Importing display from IPython.core.display is deprecated since IPython 7.14, please import from IPython display\n",
      "  from IPython.core.display import display,HTML\n"
     ]
    },
    {
     "data": {
      "text/html": [
       "<style>.container { width:100% !important; }</style>"
      ],
      "text/plain": [
       "<IPython.core.display.HTML object>"
      ]
     },
     "metadata": {},
     "output_type": "display_data"
    }
   ],
   "source": [
    "from IPython.core.display import display,HTML\n",
    "display(HTML(\"<style>.container { width:100% !important; }</style>\"))"
   ]
  },
  {
   "cell_type": "markdown",
   "id": "899c1783",
   "metadata": {},
   "source": [
    "# END JUPYTER NOTEBOOK"
   ]
  }
 ],
 "metadata": {
  "kernelspec": {
   "display_name": "Python 3 (ipykernel)",
   "language": "python",
   "name": "python3"
  },
  "language_info": {
   "codemirror_mode": {
    "name": "ipython",
    "version": 3
   },
   "file_extension": ".py",
   "mimetype": "text/x-python",
   "name": "python",
   "nbconvert_exporter": "python",
   "pygments_lexer": "ipython3",
   "version": "3.9.12"
  }
 },
 "nbformat": 4,
 "nbformat_minor": 5
}
