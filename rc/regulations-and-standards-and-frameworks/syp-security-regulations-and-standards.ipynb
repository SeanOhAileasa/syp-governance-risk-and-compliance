{
 "cells": [
  {
   "cell_type": "markdown",
   "id": "d4ee9e4b",
   "metadata": {},
   "source": [
    "***\n",
    "< [Home](https://github.com/SeanOhAileasa) | [README](https://github.com/SeanOhAileasa/syp-governance-risk-and-compliance/blob/main/README.md) >\n",
    "\n",
    "## CompTIA Security+ - Course Material 2022\n",
    "###### Topic: ``Security Regulations and Standards``\n",
    "***"
   ]
  },
  {
   "cell_type": "markdown",
   "id": "b82b07fb",
   "metadata": {},
   "source": [
    "Course material for the ``CompTIA Security+`` module of the ``ICT Associate Apprenticeship (Cybersecurity)`` programme."
   ]
  },
  {
   "cell_type": "markdown",
   "id": "e7228f57",
   "metadata": {},
   "source": [
    "<a id=\"top\"></a>\n",
    "***\n",
    "## Table of Contents\n",
    "***"
   ]
  },
  {
   "cell_type": "markdown",
   "id": "c2bb5e7b",
   "metadata": {},
   "source": [
    "### [Security Regulations and Standards](#a) <br/><br/>\n",
    "\n",
    "- [Compliance](#b) <br/><br/>\n",
    "- [General Data Protection Regulation](#c) <br/><br/>\n",
    "    - [``GDPR``](#c) <br/><br/>\n",
    "- [Payment Card Industry Data Security Standard](#d) <br/><br/>\n",
    "\t- [``PCI DSS``](#d) <br/><br/>\n",
    "        - [Build and maintain a secure network and systems](#d) <br/><br/>\n",
    "        - [Protect cardholder data](#d) <br/><br/>\n",
    "        - [Maintain a vulnerability management program](#d) <br/><br/>\n",
    "        - [Implement strong access control measures](#d) <br/><br/>\n",
    "        - [Regularly monitor and test network](#d) <br/><br/>\n",
    "        - [Maintain an information security policy](#d) \n",
    "<hr width=50%;>"
   ]
  },
  {
   "cell_type": "markdown",
   "id": "bf2b95e2",
   "metadata": {},
   "source": [
    "***\n",
    "## END"
   ]
  },
  {
   "cell_type": "markdown",
   "id": "34aa6eb5",
   "metadata": {},
   "source": [
    "< [Table of Contents](#top) | [References](#references) >\n",
    "<a id=\"a\"></a>\n",
    "***\n",
    "### Security Regulations and Standards\n",
    "***"
   ]
  },
  {
   "cell_type": "markdown",
   "id": "84b00380",
   "metadata": {},
   "source": [
    "< [Table of Contents](#top) | [References](#references) >\n",
    "<a id=\"b\"></a>\n",
    "***\n",
    "###### Compliance\n",
    "***"
   ]
  },
  {
   "cell_type": "markdown",
   "id": "832845c5",
   "metadata": {},
   "source": [
    "Along with all the other tasks associated with an IT security professional, you will also be asked to follow certain compliance guidelines - these are guidelines based on a series of regulations, laws, or policies in your particular geography, or for your particular line of work.\n",
    "\n",
    "This can also cover many aspects of an organization’s business, you may find that there are regulations regarding the type of data that you save - other regulations may be based around the finances of the organization, and yet others are based around keeping credit card transactions private. As you can see, these are varied in their scope and it will be up to you as the security team to make sure that the organization is following all of these compliance regulations.\n",
    "\n",
    "One of the reasons you’re going to track this so closely, is that there could be significant penalties associated with not following these regulations, for example, your organization can be fined, and in some cases, those fines can go into the millions of dollars - there could be incarceration or jail time associated with not following these regulations, and worst case for you certainly, is the loss of employment. \n",
    "\n",
    "If responsible for any of this compliance in your organization it’s important to understand the scope - may be based on your local geography - there may be national laws, it may be based on a particular territory your organization works in, or may be based on a single city or state. Some of these rules and regulations are specific to a single country, and others may be international laws that everyone in the world must follow."
   ]
  },
  {
   "cell_type": "markdown",
   "id": "b4da2efe",
   "metadata": {},
   "source": [
    "< [Table of Contents](#top) | [References](#references) >\n",
    "<a id=\"c\"></a>\n",
    "***\n",
    "###### General Data Protection Regulation - ``GDPR``\n",
    "***"
   ]
  },
  {
   "cell_type": "markdown",
   "id": "4acfd5bc",
   "metadata": {},
   "source": [
    "Your private information is available on many different websites across the internet. To address this, the European Union created a policy called the ``GDPR`` - this is the General Data Protection Regulation. \n",
    "\n",
    "The ``GDPR`` is a set of rules and regulations that allows someone in the EU to control what happens with their private information - this private information could be a name and address, it might be your phone number, it could be related to medical information, or anything else that would be specific to you.\n",
    "\n",
    "This regulation allows you to understand where your information is stored and it prevents this information from being exported outside of the European Union. \n",
    "\n",
    "Also puts the control of this data back into your hands - can contact any of the websites in the EU, ask to have your information removed, and they will remove it because that’s part of the requirements of the ``GDPR``. \n",
    "\n",
    "Another requirement of the ``GDPR`` is that every website provides detailed information about their privacy policy, so you should be able to visit any of these websites, look at their privacy policy, and understand exactly what information they’re gathering and what they’re doing with that information."
   ]
  },
  {
   "cell_type": "markdown",
   "id": "7b10c3a2",
   "metadata": {},
   "source": [
    "< [Table of Contents](#top) | [References](#references) >\n",
    "<a id=\"d\"></a>\n",
    "***\n",
    "###### Payment Card Industry Data Security Standard - ``PCI DSS``\n",
    "***"
   ]
  },
  {
   "cell_type": "markdown",
   "id": "8e35dfa1",
   "metadata": {},
   "source": [
    "If part of an organization that collects and stores credit card details, then you may be subject to the ``PCI DSS`` - this is the Payment Card Industry Data Security Standard, and the focus of these rules is to provide protection for credit card transactions. \n",
    "\n",
    "``PCI DSS`` is a series of guidelines that’s administered by the payment card industry - this is not a national set of laws, or an international series of regulations - instead managed by these private organizations.\n",
    "\n",
    "There are a series of objectives that these rules are based on:\n",
    "\n",
    "> ``Build and maintain a secure network and systems``\n",
    "\n",
    "Need to be able to build and maintain a secure network and systems - if someone is sending credit card information, we want to be sure that nobody can look into your network or your systems and be able to see that credit card detail.\n",
    "\n",
    "> ``Protect cardholder data``\n",
    "\n",
    "The cardholder data as part of that transaction needs to be protected.\n",
    "\n",
    "> ``Maintain a vulnerability management program``\n",
    "\n",
    "There needs to be some type of management of vulnerabilities so that all of your systems are always up to date, and always patched.\n",
    "\n",
    "> ``Implement strong access control measures``\n",
    "\n",
    "Want to manage who would have access to this credit card information, so every organization that stores credit cards, also needs to have a strong access control measure in place. \n",
    "\n",
    "> ``Regularly monitor and test network``\n",
    "\n",
    "To be sure that all of these policies are in place, there should be ongoing testing and we want to be sure there are existing security policies to address all of these controls around credit card numbers. \n",
    "\n",
    "> ``Maintain an information security policy``\n",
    "\n",
    "To be sure that all of these controls are in place and working, there should be periodic audits and tests and we need to be sure that our existing security policies include all of these controls for credit card information."
   ]
  },
  {
   "cell_type": "markdown",
   "id": "2cc20932",
   "metadata": {},
   "source": [
    "***\n",
    "## END"
   ]
  },
  {
   "cell_type": "markdown",
   "id": "e0e42d51",
   "metadata": {},
   "source": [
    "< [Table of Contents](#top) >\n",
    "<a id=\"references\"></a>\n",
    "***\n",
    "## References\n",
    "***"
   ]
  },
  {
   "cell_type": "markdown",
   "id": "f8aaecbc",
   "metadata": {},
   "source": [
    "J. \"Professor\" Messer, \"CompTIA Security+ (SY0-601) Course Notes,\" [professormesser.com](https://web.archive.org/web/20220521181010/https://www.professormesser.com/security-plus/sy0-601/sy0-601-video/sy0-601-comptia-security-plus-course/), September 2021."
   ]
  },
  {
   "cell_type": "markdown",
   "id": "b33c372a",
   "metadata": {},
   "source": [
    "***\n",
    "## END"
   ]
  },
  {
   "cell_type": "markdown",
   "id": "e5961b4d",
   "metadata": {},
   "source": [
    "< [Table of Contents](#top) | [References](#references) >\n",
    "<a id=\"appendix\"></a>\n",
    "***\n",
    "## Appendix\n",
    "***"
   ]
  },
  {
   "cell_type": "markdown",
   "id": "00d82a82",
   "metadata": {},
   "source": [
    "***\n",
    "## END"
   ]
  },
  {
   "cell_type": "code",
   "execution_count": 1,
   "id": "706756a2",
   "metadata": {},
   "outputs": [
    {
     "name": "stderr",
     "output_type": "stream",
     "text": [
      "C:\\Users\\SeanOhAileasa\\AppData\\Local\\Temp\\ipykernel_9568\\1322614208.py:1: DeprecationWarning: Importing display from IPython.core.display is deprecated since IPython 7.14, please import from IPython display\n",
      "  from IPython.core.display import display,HTML\n"
     ]
    },
    {
     "data": {
      "text/html": [
       "<style>.container { width:100% !important; }</style>"
      ],
      "text/plain": [
       "<IPython.core.display.HTML object>"
      ]
     },
     "metadata": {},
     "output_type": "display_data"
    }
   ],
   "source": [
    "from IPython.core.display import display,HTML\n",
    "display(HTML(\"<style>.container { width:100% !important; }</style>\"))"
   ]
  },
  {
   "cell_type": "markdown",
   "id": "899c1783",
   "metadata": {},
   "source": [
    "# END JUPYTER NOTEBOOK"
   ]
  }
 ],
 "metadata": {
  "kernelspec": {
   "display_name": "Python 3 (ipykernel)",
   "language": "python",
   "name": "python3"
  },
  "language_info": {
   "codemirror_mode": {
    "name": "ipython",
    "version": 3
   },
   "file_extension": ".py",
   "mimetype": "text/x-python",
   "name": "python",
   "nbconvert_exporter": "python",
   "pygments_lexer": "ipython3",
   "version": "3.9.12"
  }
 },
 "nbformat": 4,
 "nbformat_minor": 5
}
