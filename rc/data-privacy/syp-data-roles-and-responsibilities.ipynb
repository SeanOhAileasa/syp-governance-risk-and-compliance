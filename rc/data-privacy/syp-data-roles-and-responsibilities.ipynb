{
 "cells": [
  {
   "cell_type": "markdown",
   "id": "d4ee9e4b",
   "metadata": {},
   "source": [
    "***\n",
    "< [Home](https://github.com/SeanOhAileasa) | [README](https://github.com/SeanOhAileasa/syp-governance-risk-and-compliance/blob/main/README.md) >\n",
    "\n",
    "## CompTIA Security+ - Course Material 2022\n",
    "###### Topic: ``Data Roles and Responsibilities``\n",
    "***"
   ]
  },
  {
   "cell_type": "markdown",
   "id": "b82b07fb",
   "metadata": {},
   "source": [
    "Course material for the ``CompTIA Security+`` module of the ``ICT Associate Apprenticeship (Cybersecurity)`` programme."
   ]
  },
  {
   "cell_type": "markdown",
   "id": "e7228f57",
   "metadata": {},
   "source": [
    "<a id=\"top\"></a>\n",
    "***\n",
    "## Table of Contents\n",
    "***"
   ]
  },
  {
   "cell_type": "markdown",
   "id": "c2bb5e7b",
   "metadata": {},
   "source": [
    "### [Data Roles and Responsibilities](#a) <br/><br/>\n",
    "\n",
    "- [Data Roles](#b) <br/><br/>\n",
    "    - [Data Controllers](#b) <br/><br/>\n",
    "    - [Data Processors](#b) <br/><br/>\n",
    "    - [Data Custodian / Steward](#b) <br/><br/>\n",
    "    - [``DPO``](#b) \n",
    "<hr width=50%;>"
   ]
  },
  {
   "cell_type": "markdown",
   "id": "bf2b95e2",
   "metadata": {},
   "source": [
    "***\n",
    "## END"
   ]
  },
  {
   "cell_type": "markdown",
   "id": "34aa6eb5",
   "metadata": {},
   "source": [
    "< [Table of Contents](#top) | [References](#references) >\n",
    "<a id=\"a\"></a>\n",
    "***\n",
    "### Data Roles and Responsibilities\n",
    "***"
   ]
  },
  {
   "cell_type": "markdown",
   "id": "611c543d",
   "metadata": {},
   "source": [
    "There are many people in an organization who are responsible for our data - some of these people are technicians that work at the very low levels with this data, but there are also responsibilities at the management layer of the organization, for example, at a management level, you might have a data owner - this is a person in the organization who is responsible for a certain set of data. \n",
    "\n",
    "An organization might have a vise president of sales, and that individual is responsible for all of the customer relationship data, or there might be a treasurer in charge of the financial organization for the company, and that individual is the data owner for all of those financial details."
   ]
  },
  {
   "cell_type": "markdown",
   "id": "84b00380",
   "metadata": {},
   "source": [
    "< [Table of Contents](#top) | [References](#references) >\n",
    "<a id=\"b\"></a>\n",
    "***\n",
    "###### Data Roles\n",
    "***"
   ]
  },
  {
   "cell_type": "markdown",
   "id": "3ee2deb1",
   "metadata": {},
   "source": [
    "It’s also useful to separate the individuals that process the data, from the individuals that control the data. \n",
    "\n",
    "> Data Controllers - Data Processors\n",
    "\n",
    "The data controllers are responsible for the purposes and means by which the data is processed. \n",
    "\n",
    "The data processors are working on behalf of the data controllers, and sometimes this can even be a third-party. \n",
    "\n",
    "As an example, let’s look at the payroll process within an organization - there’s probably a payroll department within your company, and they’re considered to be the data controller because they’re the ones that define how much people get paid, and when they get paid but it’s very common for a company to work with a third party to actually process the payroll, and that would be a third-party payroll company - they’re considered to be the data processor.\n",
    "\n",
    "The information regarding payroll is sent to the data processor, they will make sure that checks are mailed and that the electronic transfers occur, and they will store employee information and be able to report on text information at the end of the year.\n",
    "\n",
    "> Data Custodian / Steward\n",
    "\n",
    "Within your company, there is probably one or many data custodians or data stewards - this is someone who’s responsible for the accuracy of the data, for keeping all of your data private, and the security associated with the data that’s stored in your systems. \n",
    "\n",
    "This is also the user or group that will identify or set labels associated with data, so that exactly who might have access to that data. This is also the group that keeps track of all the laws and regulations associated with data so that your organization complies with all of those rules and they may implement the security controls for the data and determine exactly who might have access to that information.\n",
    "\n",
    "> Data Protection Officer - ``DPO``\n",
    "\n",
    "Many companies also have a data protection officer or DPO - this is a higher-level manager who is responsible for the organization’s overall data privacy policies - this person will define exactly what the privacy policies are for your organization, they will make sure processes are in place so that all of the data remains private, and they’ll have procedures for handling data throughout the workday."
   ]
  },
  {
   "cell_type": "markdown",
   "id": "2cc20932",
   "metadata": {},
   "source": [
    "***\n",
    "## END"
   ]
  },
  {
   "cell_type": "markdown",
   "id": "e0e42d51",
   "metadata": {},
   "source": [
    "< [Table of Contents](#top) >\n",
    "<a id=\"references\"></a>\n",
    "***\n",
    "## References\n",
    "***"
   ]
  },
  {
   "cell_type": "markdown",
   "id": "f8aaecbc",
   "metadata": {},
   "source": [
    "J. \"Professor\" Messer, \"CompTIA Security+ (SY0-601) Course Notes,\" [professormesser.com](https://web.archive.org/web/20220521181010/https://www.professormesser.com/security-plus/sy0-601/sy0-601-video/sy0-601-comptia-security-plus-course/), September 2021."
   ]
  },
  {
   "cell_type": "markdown",
   "id": "b33c372a",
   "metadata": {},
   "source": [
    "***\n",
    "## END"
   ]
  },
  {
   "cell_type": "markdown",
   "id": "e5961b4d",
   "metadata": {},
   "source": [
    "< [Table of Contents](#top) | [References](#references) >\n",
    "<a id=\"appendix\"></a>\n",
    "***\n",
    "## Appendix\n",
    "***"
   ]
  },
  {
   "cell_type": "markdown",
   "id": "00d82a82",
   "metadata": {},
   "source": [
    "***\n",
    "## END"
   ]
  },
  {
   "cell_type": "code",
   "execution_count": 1,
   "id": "706756a2",
   "metadata": {},
   "outputs": [
    {
     "name": "stderr",
     "output_type": "stream",
     "text": [
      "C:\\Users\\SeanOhAileasa\\AppData\\Local\\Temp\\ipykernel_5216\\1322614208.py:1: DeprecationWarning: Importing display from IPython.core.display is deprecated since IPython 7.14, please import from IPython display\n",
      "  from IPython.core.display import display,HTML\n"
     ]
    },
    {
     "data": {
      "text/html": [
       "<style>.container { width:100% !important; }</style>"
      ],
      "text/plain": [
       "<IPython.core.display.HTML object>"
      ]
     },
     "metadata": {},
     "output_type": "display_data"
    }
   ],
   "source": [
    "from IPython.core.display import display,HTML\n",
    "display(HTML(\"<style>.container { width:100% !important; }</style>\"))"
   ]
  },
  {
   "cell_type": "markdown",
   "id": "899c1783",
   "metadata": {},
   "source": [
    "# END JUPYTER NOTEBOOK"
   ]
  }
 ],
 "metadata": {
  "kernelspec": {
   "display_name": "Python 3 (ipykernel)",
   "language": "python",
   "name": "python3"
  },
  "language_info": {
   "codemirror_mode": {
    "name": "ipython",
    "version": 3
   },
   "file_extension": ".py",
   "mimetype": "text/x-python",
   "name": "python",
   "nbconvert_exporter": "python",
   "pygments_lexer": "ipython3",
   "version": "3.9.12"
  }
 },
 "nbformat": 4,
 "nbformat_minor": 5
}
