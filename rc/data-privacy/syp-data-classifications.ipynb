{
 "cells": [
  {
   "cell_type": "markdown",
   "id": "d4ee9e4b",
   "metadata": {},
   "source": [
    "***\n",
    "< [Home](https://github.com/SeanOhAileasa) | [README](https://github.com/SeanOhAileasa/syp-governance-risk-and-compliance/blob/main/README.md) >\n",
    "\n",
    "## CompTIA Security+ - Course Material 2022\n",
    "###### Topic: ``Data Classifications``\n",
    "***"
   ]
  },
  {
   "cell_type": "markdown",
   "id": "b82b07fb",
   "metadata": {},
   "source": [
    "Course material for the ``CompTIA Security+`` module of the ``ICT Associate Apprenticeship (Cybersecurity)`` programme."
   ]
  },
  {
   "cell_type": "markdown",
   "id": "e7228f57",
   "metadata": {},
   "source": [
    "<a id=\"top\"></a>\n",
    "***\n",
    "## Table of Contents\n",
    "***"
   ]
  },
  {
   "cell_type": "markdown",
   "id": "c2bb5e7b",
   "metadata": {},
   "source": [
    "### [Data Classifications](#a) <br/><br/>\n",
    "\n",
    "- [Labelling Sensitive Data](#b) <br/><br/>\n",
    "    - [Data Classifications](#c) \n",
    "<hr width=50%;>"
   ]
  },
  {
   "cell_type": "markdown",
   "id": "bf2b95e2",
   "metadata": {},
   "source": [
    "***\n",
    "## END"
   ]
  },
  {
   "cell_type": "markdown",
   "id": "34aa6eb5",
   "metadata": {},
   "source": [
    "< [Table of Contents](#top) | [References](#references) >\n",
    "<a id=\"a\"></a>\n",
    "***\n",
    "### Data Classifications\n",
    "***"
   ]
  },
  {
   "cell_type": "markdown",
   "id": "84b00380",
   "metadata": {},
   "source": [
    "< [Table of Contents](#top) | [References](#references) >\n",
    "<a id=\"b\"></a>\n",
    "***\n",
    "###### Labelling Sensitive Data\n",
    "***"
   ]
  },
  {
   "cell_type": "markdown",
   "id": "71599e1c",
   "metadata": {},
   "source": [
    "When it comes to the sensitivity of data, there are different types of data have different levels of sensitivity, for example, let’s take the difference between a license tag number, and your private health care information. \n",
    "\n",
    "A license tag number is a relatively sensitive piece of information, but it is something that is visible to everyone who’s driving by your car. \n",
    "\n",
    "Health records though, are much more sensitive - they’re very private, and it’s something that other people should not normally have access to.\n",
    "\n",
    "This means that if we have two applications, one that handles license tag renewal, and another one that handles health insurance, that we would be applying a completely different type of security to both of those applications. \n",
    "\n",
    "There would probably be a completely different set of permissions between those two applications, because it’s using such different data - there may also be a completely different process to view this different type of information. The local government motor vehicle department can probably search through all of the license tag numbers, but they would not have access to all of your medical information. \n",
    "\n",
    "In the case of medical records or financial information, there may be a completely different set of security controls associated with viewing that information. It may be on a separate network, we may have other firewalls, that data may be encrypted, and we may be applying a completely different set of security policies to your health care information than what we apply to your license tag number."
   ]
  },
  {
   "cell_type": "markdown",
   "id": "b4da2efe",
   "metadata": {},
   "source": [
    "< [Table of Contents](#top) | [References](#references) >\n",
    "<a id=\"c\"></a>\n",
    "***\n",
    "###### Data Classifications\n",
    "***"
   ]
  },
  {
   "cell_type": "markdown",
   "id": "771ad139",
   "metadata": {},
   "source": [
    "> ``Proprietary``\n",
    "\n",
    "Working with data that is proprietary, that means that information is private and is the property of an organization - this often includes trade secrets and other information that you would not want to get out to third-parties or your competition. Proprietary data is often unique to an organization, and is not data that you would find somewhere else. \n",
    "\n",
    "> Personally Identifiable Information (``PII``)\n",
    "\n",
    "Data that is stored as Personally Identifiable Information (``PII``) is any type of data that could be tied back to an individual or person. This is information like your name, your address, your telephone number, biometric information, or anything else that can be associated with you. \n",
    "\n",
    "> Protected Health Information (``PHI``)\n",
    "\n",
    "If you work in health care, then you also work with Protected Health Information (``PHI``) - these are health records associated with an individual, and they obviously have a very high level of privacy associated with them, so information about your health status, details of your health insurance, or anything associated with your health records, would be ``PHI``.\n",
    "\n",
    "> Public / Unclassified\n",
    "\n",
    "Often put labels on data - these classifications can take many different forms - can identify data as public data, or what you might call unclassified data, which means that anyone would have access to this information.\n",
    "\n",
    "> Private / Classified / Restricted / Internal Use Only\n",
    "\n",
    "If there’s data that is restricted, or should only be shown to certain individuals, then we may want to label this information differently, so we would label this data as private, classified, restricted, internal use only, or any other classification that shows that this data should remain private.\n",
    "\n",
    "> Sensitive\n",
    "\n",
    "Perhaps the next tier above private or classified information, would be sensitive information - this might be intellectual property, or secrets of a company, it could be your personally identifiable information, such as your name or address, or your protected health care information. \n",
    "\n",
    "> Confidential\n",
    "\n",
    "If there’s very sensitive information that you should only have access to view if you’ve been granted the correct permissions, we would classify that data as confidential.\n",
    "\n",
    "> Critical\n",
    "\n",
    "Might add on classifications to data that describe it as something that is very important, this would be critical information and it might be specific to the processes we use inside of our organization, or this might be information that is publicly available.\n",
    "\n",
    "> Financial Information\n",
    "\n",
    "When working with companies, you may find there are certain vertical markets that have a standard as to how data might be used, for example, a financial organization would have your personal financial details and perhaps financial details of other organizations - there might also be additional laws and regulations on how financial information can be used. \n",
    "\n",
    "> Government Data\n",
    "\n",
    "The data collected by our government is often considered open data that anyone might have access to - this is not universally the case, but a large percentage of the data collected by the government is information that you would have access to - there might also be data that is shared between different areas of the government, for example, there may be law enforcement at the state or local level that is able to share data with each other but not all of the information collected by the government is something that is open and available, for example, the government might have personal financial information that we use when we’re starting a business, and much of that information may be protected by law. \n",
    "\n",
    "> Customer Data\n",
    "\n",
    "Your company might also collect data from your customers, so you might have their name, their address, and other information about the organization they work for - these may be very specific to a user, and might certainly be qualified as personally identifiable information, so in your particular geography there may be additional laws or regulations on how this customer data is handled."
   ]
  },
  {
   "cell_type": "markdown",
   "id": "2cc20932",
   "metadata": {},
   "source": [
    "***\n",
    "## END"
   ]
  },
  {
   "cell_type": "markdown",
   "id": "e0e42d51",
   "metadata": {},
   "source": [
    "< [Table of Contents](#top) >\n",
    "<a id=\"references\"></a>\n",
    "***\n",
    "## References\n",
    "***"
   ]
  },
  {
   "cell_type": "markdown",
   "id": "f8aaecbc",
   "metadata": {},
   "source": [
    "J. \"Professor\" Messer, \"CompTIA Security+ (SY0-601) Course Notes,\" [professormesser.com](https://web.archive.org/web/20220521181010/https://www.professormesser.com/security-plus/sy0-601/sy0-601-video/sy0-601-comptia-security-plus-course/), September 2021."
   ]
  },
  {
   "cell_type": "markdown",
   "id": "b33c372a",
   "metadata": {},
   "source": [
    "***\n",
    "## END"
   ]
  },
  {
   "cell_type": "markdown",
   "id": "e5961b4d",
   "metadata": {},
   "source": [
    "< [Table of Contents](#top) | [References](#references) >\n",
    "<a id=\"appendix\"></a>\n",
    "***\n",
    "## Appendix\n",
    "***"
   ]
  },
  {
   "cell_type": "markdown",
   "id": "00d82a82",
   "metadata": {},
   "source": [
    "***\n",
    "## END"
   ]
  },
  {
   "cell_type": "code",
   "execution_count": 1,
   "id": "706756a2",
   "metadata": {},
   "outputs": [
    {
     "name": "stderr",
     "output_type": "stream",
     "text": [
      "C:\\Users\\SeanOhAileasa\\AppData\\Local\\Temp\\ipykernel_3012\\1322614208.py:1: DeprecationWarning: Importing display from IPython.core.display is deprecated since IPython 7.14, please import from IPython display\n",
      "  from IPython.core.display import display,HTML\n"
     ]
    },
    {
     "data": {
      "text/html": [
       "<style>.container { width:100% !important; }</style>"
      ],
      "text/plain": [
       "<IPython.core.display.HTML object>"
      ]
     },
     "metadata": {},
     "output_type": "display_data"
    }
   ],
   "source": [
    "from IPython.core.display import display,HTML\n",
    "display(HTML(\"<style>.container { width:100% !important; }</style>\"))"
   ]
  },
  {
   "cell_type": "markdown",
   "id": "899c1783",
   "metadata": {},
   "source": [
    "# END JUPYTER NOTEBOOK"
   ]
  }
 ],
 "metadata": {
  "kernelspec": {
   "display_name": "Python 3 (ipykernel)",
   "language": "python",
   "name": "python3"
  },
  "language_info": {
   "codemirror_mode": {
    "name": "ipython",
    "version": 3
   },
   "file_extension": ".py",
   "mimetype": "text/x-python",
   "name": "python",
   "nbconvert_exporter": "python",
   "pygments_lexer": "ipython3",
   "version": "3.9.12"
  }
 },
 "nbformat": 4,
 "nbformat_minor": 5
}
