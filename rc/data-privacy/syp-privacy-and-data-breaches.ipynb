{
 "cells": [
  {
   "cell_type": "markdown",
   "id": "d4ee9e4b",
   "metadata": {},
   "source": [
    "***\n",
    "< [Home](https://github.com/SeanOhAileasa) | [README](https://github.com/SeanOhAileasa/syp-governance-risk-and-compliance/blob/main/README.md) >\n",
    "\n",
    "## CompTIA Security+ - Course Material 2022\n",
    "###### Topic: ``Privacy and Data Breaches``\n",
    "***"
   ]
  },
  {
   "cell_type": "markdown",
   "id": "b82b07fb",
   "metadata": {},
   "source": [
    "Course material for the ``CompTIA Security+`` module of the ``ICT Associate Apprenticeship (Cybersecurity)`` programme."
   ]
  },
  {
   "cell_type": "markdown",
   "id": "e7228f57",
   "metadata": {},
   "source": [
    "<a id=\"top\"></a>\n",
    "***\n",
    "## Table of Contents\n",
    "***"
   ]
  },
  {
   "cell_type": "markdown",
   "id": "c2bb5e7b",
   "metadata": {},
   "source": [
    "### [Privacy and Data Breaches](#a) <br/><br/>\n",
    "\n",
    "- [Information Life Cycle](#b) <br/><br/>\n",
    "    - [Creation and Receipt](#b) <br/><br/>\n",
    "    - [Distribution](#b) <br/><br/>\n",
    "    - [Use](#b) <br/><br/>\n",
    "    - [Maintenance](#b) <br/><br/>\n",
    "    - [Disposition](#b) <br/><br/>\n",
    "- [Consequences](#c) <br/><br/>\n",
    "    - [Reputation](#c) <br/><br/>\n",
    "    - [Identify Theft](#c) <br/><br/>\n",
    "    - [Fines](#c) <br/><br/>\n",
    "    - [Intellectual Property (IP) Theft](#c) <br/><br/>\n",
    "- [Notification](#d) <br/><br/>\n",
    "- [Privacy Impact Assessment](#e) <br/><br/>\n",
    "    - [``PIA``](#e) <br/><br/>\n",
    "- [Notices](#f) <br/><br/>\n",
    "    - [Terms of Service](#f) <br/><br/>\n",
    "    - [Privacy Notice / Policy](#f)\n",
    "<hr width=50%;>"
   ]
  },
  {
   "cell_type": "markdown",
   "id": "bf2b95e2",
   "metadata": {},
   "source": [
    "***\n",
    "## END"
   ]
  },
  {
   "cell_type": "markdown",
   "id": "34aa6eb5",
   "metadata": {},
   "source": [
    "< [Table of Contents](#top) | [References](#references) >\n",
    "<a id=\"a\"></a>\n",
    "***\n",
    "### Privacy and Data Breaches\n",
    "***"
   ]
  },
  {
   "cell_type": "markdown",
   "id": "84b00380",
   "metadata": {},
   "source": [
    "< [Table of Contents](#top) | [References](#references) >\n",
    "<a id=\"b\"></a>\n",
    "***\n",
    "###### Information Life Cycle\n",
    "***"
   ]
  },
  {
   "cell_type": "markdown",
   "id": "3cb21bb4",
   "metadata": {},
   "source": [
    "Protecting data, it’s important to understand the entire lifecycle of information. \n",
    "\n",
    "> ``Creation and Receipt``\n",
    "\n",
    "Start with the creation and the receipt of this data - could be data that we create inside of our own organization or we might receive this data from a third-party. \n",
    "\n",
    "> ``Distribution``\n",
    "\n",
    "Once we have this data, it needs to be processed - commonly, we would sort this information and store it into the appropriate areas. \n",
    "\n",
    "> ``Use``\n",
    "\n",
    "At this point, the data is ready to use - would implement this in the applications we use as a normal part of our business, or we may create products and services based on this data. \n",
    "\n",
    "> ``Maintenance``\n",
    "\n",
    "With many data sources, there’s ongoing maintenance, so we will constantly be retrieving this data and transferring this data to other locations. \n",
    "\n",
    "> ``Disposition``\n",
    "\n",
    "Once we’re done with this data, we need to archive it or find a secure way to dispose of the data."
   ]
  },
  {
   "cell_type": "markdown",
   "id": "b4da2efe",
   "metadata": {},
   "source": [
    "< [Table of Contents](#top) | [References](#references) >\n",
    "<a id=\"c\"></a>\n",
    "***\n",
    "###### Consequences\n",
    "***"
   ]
  },
  {
   "cell_type": "markdown",
   "id": "2ccfeb2d",
   "metadata": {},
   "source": [
    "During every step of this life cycle, there is the potential for a data breach. \n",
    "\n",
    "> ``Reputation``\n",
    "\n",
    "One consequence of a data breach would be damage to one’s reputation - if your organization isn’t trusted to store data, then it could have a negative impact on how others might view you. \n",
    "\n",
    "This also could have an impact on the products and services that you sell, since people no longer have the same amount of trust in your organization and if you’re a public company, this can also affect the stock price. \n",
    "\n",
    "> ``Identify Theft``\n",
    "\n",
    "Might also be concerned that this data may be used for identity theft, and taking advantage of other people’s private information.\n",
    "\n",
    "If the data gets into the hands of a third-party, then it’s our responsibility to have a public disclosure so that everybody understands what’s happened to this data - this is also going to cost the organization money. Many of these public disclosure laws require that the organization include credit monitoring, so that everyone who’s affected by this data breach can keep an eye on what’s happening with their data. \n",
    "\n",
    "> ``Fines``\n",
    "\n",
    "There might also be fines or lawsuits associated with the data breach. \n",
    "\n",
    "In 2016 the company Uber had a data breach and did not disclose it - instead, Uber contacted the hackers that originally stole the data and paid them USD100,000 to not say anything. There was a lawsuit on this, and the settlement from Uber was USD148 million. \n",
    "\n",
    "There were also fines associated with the 2017 data breach from Equifax, when the US government fined them over USD700 million.\n",
    "\n",
    "> ``Intellectual Property (IP) Theft``\n",
    "\n",
    "Many organizations have data that they’ve created themselves in the form of intellectual property (``IP``) - if someone does gain access to these company secrets, they may be able to use it for their own purposes and effectively put you out of business."
   ]
  },
  {
   "cell_type": "markdown",
   "id": "7b10c3a2",
   "metadata": {},
   "source": [
    "< [Table of Contents](#top) | [References](#references) >\n",
    "<a id=\"d\"></a>\n",
    "***\n",
    "###### Notification - [Internal Escalation] - [External Escalation] - [Public Notifications and Disclosures]\n",
    "***"
   ]
  },
  {
   "cell_type": "markdown",
   "id": "137b8aa7",
   "metadata": {},
   "source": [
    "In many cases, the discovery of these data breaches occurs on the inside of the organization initially. A technician runs across a series of processes or file transfers, and realizes that internal data is being sent to a third-party - this means there needs to be a series of processes, so the right people inside of the organization are notified of this breach. \n",
    "\n",
    "At this point, we may want to go outside of the organization and work with a third-party who specializes in these types of data breaches. It may be possible to gather additional information with their assistance, and they may be able to locate and stop any additional breach. \n",
    "\n",
    "Once this initial phase is over, it’s time to inform the public of the data breach. There are a number of security breach notification laws in almost every geography, all 50 US states, the European Union, Australia, and almost every other country has laws regarding public disclosure. Normally, these disclosures occur relatively quickly but there may be times when criminal investigations are underway and it may be more important to keep that information private until the investigation is over."
   ]
  },
  {
   "cell_type": "markdown",
   "id": "1ce9ff85",
   "metadata": {},
   "source": [
    "< [Table of Contents](#top) | [References](#references) >\n",
    "<a id=\"e\"></a>\n",
    "***\n",
    "###### Privacy Impact Assessment - ``PIA``\n",
    "***"
   ]
  },
  {
   "cell_type": "markdown",
   "id": "ee0fb163",
   "metadata": {},
   "source": [
    "Keeping information private is an important part of maintaining data, but almost everything we would do as an organization has some impact on the privacy of data.\n",
    "\n",
    "If we’re starting up a new business, or creating new business relationships with a third-party, or we’re upgrading some of our products or our website, we have the potential for having private data suddenly become public, so we need to understand for each of these projects how data privacy may be impacted.\n",
    "\n",
    "To be able to do that, we need to perform a Privacy Impact Assessment (``PIA``) - need to understand how these new processes or products will affect the privacy of our customers’ data. \n",
    "\n",
    "This allows us to understand how the data flows will occur prior to implementing these particular projects, so we have the ability to fix these privacy concerns before they actually become an issue - this also gives us a chance to show others how we’re taking care of their data, and we can show them the process we went through to ensure that all of their data remains private - this privacy impact assessment might also allow us to stop a data breach since we can find all of these privacy concerns prior to implementing this project."
   ]
  },
  {
   "cell_type": "markdown",
   "id": "d87809fd",
   "metadata": {},
   "source": [
    "< [Table of Contents](#top) | [References](#references) >\n",
    "<a id=\"f\"></a>\n",
    "***\n",
    "###### Notices\n",
    "***"
   ]
  },
  {
   "cell_type": "markdown",
   "id": "5432003f",
   "metadata": {},
   "source": [
    "There are a number of different places that you can get information on how an organization might be handling data.\n",
    "\n",
    "> Terms of Service (``T&C``)\n",
    "\n",
    "One of these is through the Terms of Service (``T&C``). This is is a legal agreement and a user commonly has to agree to these terms and conditions prior to using a service. \n",
    "\n",
    "> Privacy Notice - Privacy Policy\n",
    "\n",
    "There might also be a separate set of documentation called a Privacy Notice, or Privacy Policy and this may be required depending on where this organization happens to do business. This documents how the organization is going to manage the data that you provide to them, and it also gives you options on what you can do to help protect your data, and who you can contact in that organization for more information."
   ]
  },
  {
   "cell_type": "markdown",
   "id": "2cc20932",
   "metadata": {},
   "source": [
    "***\n",
    "## END"
   ]
  },
  {
   "cell_type": "markdown",
   "id": "e0e42d51",
   "metadata": {},
   "source": [
    "< [Table of Contents](#top) >\n",
    "<a id=\"references\"></a>\n",
    "***\n",
    "## References\n",
    "***"
   ]
  },
  {
   "cell_type": "markdown",
   "id": "f8aaecbc",
   "metadata": {},
   "source": [
    "J. \"Professor\" Messer, \"CompTIA Security+ (SY0-601) Course Notes,\" [professormesser.com](https://web.archive.org/web/20220521181010/https://www.professormesser.com/security-plus/sy0-601/sy0-601-video/sy0-601-comptia-security-plus-course/), September 2021."
   ]
  },
  {
   "cell_type": "markdown",
   "id": "b33c372a",
   "metadata": {},
   "source": [
    "***\n",
    "## END"
   ]
  },
  {
   "cell_type": "markdown",
   "id": "e5961b4d",
   "metadata": {},
   "source": [
    "< [Table of Contents](#top) | [References](#references) >\n",
    "<a id=\"appendix\"></a>\n",
    "***\n",
    "## Appendix\n",
    "***"
   ]
  },
  {
   "cell_type": "markdown",
   "id": "00d82a82",
   "metadata": {},
   "source": [
    "***\n",
    "## END"
   ]
  },
  {
   "cell_type": "code",
   "execution_count": 1,
   "id": "706756a2",
   "metadata": {},
   "outputs": [
    {
     "name": "stderr",
     "output_type": "stream",
     "text": [
      "C:\\Users\\SeanOhAileasa\\AppData\\Local\\Temp\\ipykernel_15044\\1322614208.py:1: DeprecationWarning: Importing display from IPython.core.display is deprecated since IPython 7.14, please import from IPython display\n",
      "  from IPython.core.display import display,HTML\n"
     ]
    },
    {
     "data": {
      "text/html": [
       "<style>.container { width:100% !important; }</style>"
      ],
      "text/plain": [
       "<IPython.core.display.HTML object>"
      ]
     },
     "metadata": {},
     "output_type": "display_data"
    }
   ],
   "source": [
    "from IPython.core.display import display,HTML\n",
    "display(HTML(\"<style>.container { width:100% !important; }</style>\"))"
   ]
  },
  {
   "cell_type": "markdown",
   "id": "899c1783",
   "metadata": {},
   "source": [
    "# END JUPYTER NOTEBOOK"
   ]
  }
 ],
 "metadata": {
  "kernelspec": {
   "display_name": "Python 3 (ipykernel)",
   "language": "python",
   "name": "python3"
  },
  "language_info": {
   "codemirror_mode": {
    "name": "ipython",
    "version": 3
   },
   "file_extension": ".py",
   "mimetype": "text/x-python",
   "name": "python",
   "nbconvert_exporter": "python",
   "pygments_lexer": "ipython3",
   "version": "3.9.12"
  }
 },
 "nbformat": 4,
 "nbformat_minor": 5
}
