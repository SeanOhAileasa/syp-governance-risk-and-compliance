{
 "cells": [
  {
   "cell_type": "markdown",
   "id": "d4ee9e4b",
   "metadata": {},
   "source": [
    "***\n",
    "< [Home](https://github.com/SeanOhAileasa) | [README](https://github.com/SeanOhAileasa/syp-governance-risk-and-compliance/blob/main/README.md) >\n",
    "\n",
    "## CompTIA Security+ - Course Material 2022\n",
    "###### Topic: ``Credential Policies``\n",
    "***"
   ]
  },
  {
   "cell_type": "markdown",
   "id": "b82b07fb",
   "metadata": {},
   "source": [
    "Course material for the ``CompTIA Security+`` module of the ``ICT Associate Apprenticeship (Cybersecurity)`` programme."
   ]
  },
  {
   "cell_type": "markdown",
   "id": "e7228f57",
   "metadata": {},
   "source": [
    "<a id=\"top\"></a>\n",
    "***\n",
    "## Table of Contents\n",
    "***"
   ]
  },
  {
   "cell_type": "markdown",
   "id": "c2bb5e7b",
   "metadata": {},
   "source": [
    "### [Credential Policies](#a) <br/><br/>\n",
    "\n",
    "- [Central Management](#b) <br/><br/>\n",
    "- [Personnel Access](#c) <br/><br/>\n",
    "- [Third-party Accounts](#d) <br/><br/>\n",
    "- [Device Accounts](#e) <br/><br/>\n",
    "- [Service Accounts](#f) <br/><br/>\n",
    "- [Administrator](#g) <br/><br/>\n",
    "    - [root](#g) \n",
    "<hr width=50%;>"
   ]
  },
  {
   "cell_type": "markdown",
   "id": "bf2b95e2",
   "metadata": {},
   "source": [
    "***\n",
    "## END"
   ]
  },
  {
   "cell_type": "markdown",
   "id": "34aa6eb5",
   "metadata": {},
   "source": [
    "< [Table of Contents](#top) | [References](#references) >\n",
    "<a id=\"a\"></a>\n",
    "***\n",
    "### Credential Policies\n",
    "***"
   ]
  },
  {
   "cell_type": "markdown",
   "id": "84b00380",
   "metadata": {},
   "source": [
    "< [Table of Contents](#top) | [References](#references) >\n",
    "<a id=\"b\"></a>\n",
    "***\n",
    "###### Central Management\n",
    "***"
   ]
  },
  {
   "cell_type": "markdown",
   "id": "2e10fe68",
   "metadata": {},
   "source": [
    "The credential management process we use with our usernames, passwords, and other credentials is a critical part of our data security strategy. Without the proper credential management, your data would be accessible to anyone. \n",
    "\n",
    "It’s remarkable then how often the implementation of passwords might be on a system - its possible to run into an application that stored the passwords as part of the application itself - this is certainly not a secure way to manage credentials, instead, all of the passwords need to reside on the server side. \n",
    "\n",
    "The client will type in passwords on demand, and you certainly don’t want to store passwords as part of the operating system or the applications.\n",
    "\n",
    "Also want to be sure that the communication process for the application especially during the login process is encrypting these credentials - if we’re using TLS, for example, to communicate to a web server, then we know that that entire communication process is encrypted. \n",
    "\n",
    "Certainly don’t want to send our login credentials across the network in the clear, and we may want to check to be sure that our applications are using an encrypted form of communication."
   ]
  },
  {
   "cell_type": "markdown",
   "id": "b4da2efe",
   "metadata": {},
   "source": [
    "< [Table of Contents](#top) | [References](#references) >\n",
    "<a id=\"c\"></a>\n",
    "***\n",
    "###### Personnel Access\n",
    "***"
   ]
  },
  {
   "cell_type": "markdown",
   "id": "3a762d38",
   "metadata": {},
   "source": [
    "Also want to be sure that the person who’s logging into his system is logging in with their own personal account - this is an account that is not shared with someone else, that the only person who could be logging in with this account is the single owner of that account. \n",
    "\n",
    "In the operating system, this username is associated with an identification number, so we always want to be sure that the user ID, the identification number used by the operating system, and the single user logging in is always the same person. \n",
    "\n",
    "When you authenticate to an operating system, it allocates a section of the storage drive to be associated with your own personal files and even if someone else was to log in to the same physical system, they would not normally have access to your private files - this is a feature of the operating system, and it’s an important reason why we have separate personal accounts for different people.\n",
    "\n",
    "Another important security policy associated with these user accounts is that the users do not have privileged access and certainly not privileged access by default - want to be sure that the user accounts are configured to allow them to do the work that they need to do, but no additional access to the operating system - this not only limits what individual users can do in the operating system, but it also limits any malware that’s running as that users rights and permissions, and keeps that malware from accessing any restricted part of the operating system. \n",
    "\n",
    "These personal accounts, or user accounts should be the default for everyone connecting to the network - even the IT department will use a user account during the normal day, and if they need additional access to the operating system, they’ll use an elevated account for a temporary time frame."
   ]
  },
  {
   "cell_type": "markdown",
   "id": "7b10c3a2",
   "metadata": {},
   "source": [
    "< [Table of Contents](#top) | [References](#references) >\n",
    "<a id=\"d\"></a>\n",
    "***\n",
    "###### Third-party Accounts\n",
    "***"
   ]
  },
  {
   "cell_type": "markdown",
   "id": "c472b49c",
   "metadata": {},
   "source": [
    "Beyond the accounts that user might have to log in to the local network, there may be third-party accounts that they use to log into external systems. \n",
    "\n",
    "This is common when accessing a cloud based system, which probably doesn’t have a way to authenticate to your local user database, so if someone’s logging in to a cloud platform for payroll purposes, or they’re using cloud-based enterprise resource planning software, and they probably have a third party account that they’ve created on that website. \n",
    "\n",
    "There might also be business partners or vendors that log into our local computer system - those are third-party accounts used by someone outside of the organization, and they could be connecting to our network from anywhere on the internet.\n",
    "\n",
    "In both of these situations, it’s always good to have some additional forms of authentication, so something like two-factor authentication (``2FA``), or multifactor authentication (``MFA``), would be a valuable addition to these accounts. \n",
    "\n",
    "If we do have third-party accounts that we use to access cloud-based services, or we have business partners or vendors that are connecting to us, then we may want to perform occasional audits to make sure that those accounts are also safe. \n",
    "\n",
    "Of course, just as we have with our personal accounts, third-party accounts should also be unique accounts that are tied to an individual - should never allow account sharing either internally or with our third-party accounts."
   ]
  },
  {
   "cell_type": "markdown",
   "id": "1ce9ff85",
   "metadata": {},
   "source": [
    "< [Table of Contents](#top) | [References](#references) >\n",
    "<a id=\"e\"></a>\n",
    "***\n",
    "###### Device Accounts\n",
    "***"
   ]
  },
  {
   "cell_type": "markdown",
   "id": "bd6ad5eb",
   "metadata": {},
   "source": [
    "Also need to define additional credential policies for our mobile devices such as our smartphones and our tablets. \n",
    "\n",
    "Our security team could deploy device certificates, which would identify that device as a trusted piece of hardware and one that has already been validated by the security team. Might also require that the users have screen locks, and there are standards for the type of screen lock and the way that they would unlock the system. Those policies and standards can be pushed out through the Mobile Device Manager (``MDM``), so that you have a uniform set of policies for all of your mobile devices.\n",
    "\n",
    "Can add additional credential management on top of that by requiring certain geography-based checks to ensure that someone using this account is located in an area that we would expect them to be - can also require additional authentication factors such as a biometric, and we might also associate a device with the user so that the only people who could authenticate from that mobile device are the people registered to that device."
   ]
  },
  {
   "cell_type": "markdown",
   "id": "d87809fd",
   "metadata": {},
   "source": [
    "< [Table of Contents](#top) | [References](#references) >\n",
    "<a id=\"f\"></a>\n",
    "***\n",
    "###### Service Accounts\n",
    "***"
   ]
  },
  {
   "cell_type": "markdown",
   "id": "4ff37aec",
   "metadata": {},
   "source": [
    "There might also be credentials used on a device that you never see - these are probably used by the services that are running on your device, which are background processes that normally are not seen on someone’s desktop. If you’re running a web service, a database service, or any one of the many services running in an operating system, you want to be sure that those services have the correct credentials.\n",
    "\n",
    "It’s common to use different credentials for different services, depending on the access that they need to the operating system, for example, a web service has certain rights and permissions they need to access files on the system, but those rights and permissions are probably very different than a database service, so the login name and password we would use for the web service would probably be different than the database service.\n",
    "\n",
    "One challenge with managing these non-interactive services is there’s no way to prompt the service for a password change, so we need to have policies in place that would allow us to make changes to these credentials and have those changes pushed out to all of these service accounts. "
   ]
  },
  {
   "cell_type": "markdown",
   "id": "1256d7bf",
   "metadata": {},
   "source": [
    "< [Table of Contents](#top) | [References](#references) >\n",
    "<a id=\"g\"></a>\n",
    "***\n",
    "###### Administrator - ``root``\n",
    "***"
   ]
  },
  {
   "cell_type": "markdown",
   "id": "adfec5c3",
   "metadata": {},
   "source": [
    "During the normal workday, you have a user account configured on your system, and that’s the one that’s normally used to perform your day to day functions but there may be times when you need elevated access to an operating system, and in Windows, that elevated access is the administrator account, and in Linux, it’s the root account.\n",
    "\n",
    "These elevated accounts provide complete access to the operating system, so you would be able to configure the hardware, the device drivers, install additional software, and perform any other function in that operating system. \n",
    "\n",
    "This is why the common best practice is to run with a user account normally, and only use the elevated accounts when it’s required - if you make a mistake while using the elevated rights and permissions, you could cause some significant damage to the operating system that normally would not be allowed from a user account - this also prevents malware and other types of malicious software from gaining enhanced access to the operating system, and could limit the scope of a virus outbreak.\n",
    "\n",
    "Would obviously have additional security controls associated with these credentials - if you’re logging in with administrator or root access, then you should probably be using some type of multifactor authentication. It might also be a good idea to occasionally change the password for these accounts to ensure that only authorized users have access to these enhanced credentials."
   ]
  },
  {
   "cell_type": "markdown",
   "id": "2cc20932",
   "metadata": {},
   "source": [
    "***\n",
    "## END"
   ]
  },
  {
   "cell_type": "markdown",
   "id": "e0e42d51",
   "metadata": {},
   "source": [
    "< [Table of Contents](#top) >\n",
    "<a id=\"references\"></a>\n",
    "***\n",
    "## References\n",
    "***"
   ]
  },
  {
   "cell_type": "markdown",
   "id": "f8aaecbc",
   "metadata": {},
   "source": [
    "J. \"Professor\" Messer, \"CompTIA Security+ (SY0-601) Course Notes,\" [professormesser.com](https://web.archive.org/web/20220521181010/https://www.professormesser.com/security-plus/sy0-601/sy0-601-video/sy0-601-comptia-security-plus-course/), September 2021."
   ]
  },
  {
   "cell_type": "markdown",
   "id": "b33c372a",
   "metadata": {},
   "source": [
    "***\n",
    "## END"
   ]
  },
  {
   "cell_type": "markdown",
   "id": "e5961b4d",
   "metadata": {},
   "source": [
    "< [Table of Contents](#top) | [References](#references) >\n",
    "<a id=\"appendix\"></a>\n",
    "***\n",
    "## Appendix\n",
    "***"
   ]
  },
  {
   "cell_type": "markdown",
   "id": "00d82a82",
   "metadata": {},
   "source": [
    "***\n",
    "## END"
   ]
  },
  {
   "cell_type": "code",
   "execution_count": 1,
   "id": "706756a2",
   "metadata": {},
   "outputs": [
    {
     "name": "stderr",
     "output_type": "stream",
     "text": [
      "C:\\Users\\SeanOhAileasa\\AppData\\Local\\Temp\\ipykernel_6468\\1322614208.py:1: DeprecationWarning: Importing display from IPython.core.display is deprecated since IPython 7.14, please import from IPython display\n",
      "  from IPython.core.display import display,HTML\n"
     ]
    },
    {
     "data": {
      "text/html": [
       "<style>.container { width:100% !important; }</style>"
      ],
      "text/plain": [
       "<IPython.core.display.HTML object>"
      ]
     },
     "metadata": {},
     "output_type": "display_data"
    }
   ],
   "source": [
    "from IPython.core.display import display,HTML\n",
    "display(HTML(\"<style>.container { width:100% !important; }</style>\"))"
   ]
  },
  {
   "cell_type": "markdown",
   "id": "899c1783",
   "metadata": {},
   "source": [
    "# END JUPYTER NOTEBOOK"
   ]
  }
 ],
 "metadata": {
  "kernelspec": {
   "display_name": "Python 3 (ipykernel)",
   "language": "python",
   "name": "python3"
  },
  "language_info": {
   "codemirror_mode": {
    "name": "ipython",
    "version": 3
   },
   "file_extension": ".py",
   "mimetype": "text/x-python",
   "name": "python",
   "nbconvert_exporter": "python",
   "pygments_lexer": "ipython3",
   "version": "3.9.12"
  }
 },
 "nbformat": 4,
 "nbformat_minor": 5
}
