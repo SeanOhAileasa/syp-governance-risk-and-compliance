{
 "cells": [
  {
   "cell_type": "markdown",
   "id": "d4ee9e4b",
   "metadata": {},
   "source": [
    "***\n",
    "< [Home](https://github.com/SeanOhAileasa) | [README](https://github.com/SeanOhAileasa/syp-governance-risk-and-compliance/blob/main/README.md) >\n",
    "\n",
    "## CompTIA Security+ - Course Material 2022\n",
    "###### Topic: ``Third-party Risk Management``\n",
    "***"
   ]
  },
  {
   "cell_type": "markdown",
   "id": "b82b07fb",
   "metadata": {},
   "source": [
    "Course material for the ``CompTIA Security+`` module of the ``ICT Associate Apprenticeship (Cybersecurity)`` programme."
   ]
  },
  {
   "cell_type": "markdown",
   "id": "e7228f57",
   "metadata": {},
   "source": [
    "<a id=\"top\"></a>\n",
    "***\n",
    "## Table of Contents\n",
    "***"
   ]
  },
  {
   "cell_type": "markdown",
   "id": "c2bb5e7b",
   "metadata": {},
   "source": [
    "### [Third-party Risk Management](#a) <br/><br/>\n",
    "\n",
    "- [Vendors](#b) <br/><br/>\n",
    "    - [November 2013](#c) <br/><br/>\n",
    "        - [Target Credit Card Breach](#c) <br/><br/>\n",
    "- [Supply Chain](#d) <br/><br/>\n",
    "    - [March/June 2020](#e) <br/><br/>\n",
    "        - [Solarwinds](#e) <br/><br/>\n",
    "- [Business Partners](#f) <br/><br/>\n",
    "- [Common Agreements](#g) <br/><br/>\n",
    "    - [Service Level Agreement](#g) <br/><br/>\n",
    "        - [``SLA``](#g) <br/><br/>\n",
    "    - [Memorandum Of Understanding](#g) <br/><br/>\n",
    "        - [``MOU``](#g) <br/><br/>\n",
    "    - [Measurement System Analysis](#g) <br/><br/>\n",
    "        - [``MSA``](#g) <br/><br/>\n",
    "    - [Business Partnership Agreement](#g) <br/><br/>\n",
    "        - [``BPA``](#g) <br/><br/>\n",
    "- [Non-disclosure Agreement](#h) <br/><br/>\n",
    "    - [``NDA``](#h) <br/><br/>\n",
    "- [Product Support Lifetime](#i) <br/><br/>\n",
    "    - [End of Life ](#i) <br/><br/>\n",
    "        - [``EOL``](#i) <br/><br/>\n",
    "    - [End Of Service Life](#i) <br/><br/>\n",
    "        - [``EOSL``](#i) \n",
    "<hr width=50%;>"
   ]
  },
  {
   "cell_type": "markdown",
   "id": "bf2b95e2",
   "metadata": {},
   "source": [
    "***\n",
    "## END"
   ]
  },
  {
   "cell_type": "markdown",
   "id": "34aa6eb5",
   "metadata": {},
   "source": [
    "< [Table of Contents](#top) | [References](#references) >\n",
    "<a id=\"a\"></a>\n",
    "***\n",
    "### Third-party Risk Management\n",
    "***"
   ]
  },
  {
   "cell_type": "markdown",
   "id": "84b00380",
   "metadata": {},
   "source": [
    "< [Table of Contents](#top) | [References](#references) >\n",
    "<a id=\"b\"></a>\n",
    "***\n",
    "###### Vendors\n",
    "***"
   ]
  },
  {
   "cell_type": "markdown",
   "id": "90cbf5a1",
   "metadata": {},
   "source": [
    "If part of a company, then you’re certainly going to be working with some third-party vendors - these could be people that are providing the payroll for your organization, you might be working with a separate email marketing organization, you might have a travel department that’s external to your company, or you may obtain raw materials from a third-party vendor. \n",
    "\n",
    "In each one of these relationships, there is data that’s going to be shared with a third-party - if you’re working with a service that’s in the cloud, it’s almost required that you put your data into that cloud service.\n",
    "\n",
    "It would be important from a security perspective to understand the risk associated with providing that data to a third-party, so it would be important to categorize the risk for each individual vendor and then have security policies and procedures in place to help protect against the highest risk vendors. \n",
    "\n",
    "It may be useful to have a list of these security requirements in the original contract that you have with a third party - this means that everyone understands what the security requirements might be, and you can use the contract to make sure that the third party is enforcing the requirements that were stated."
   ]
  },
  {
   "cell_type": "markdown",
   "id": "b4da2efe",
   "metadata": {},
   "source": [
    "< [Table of Contents](#top) | [References](#references) >\n",
    "<a id=\"c\"></a>\n",
    "***\n",
    "###### November 2013 - Target Credit Card Breach\n",
    "***"
   ]
  },
  {
   "cell_type": "markdown",
   "id": "cfec7496",
   "metadata": {},
   "source": [
    "An example of a third-party not following security policies and then causing an enormous breach to the network, occurred in November of 2013 with Target. \n",
    "\n",
    "Every point of sale terminal in the Target network was infected with malware, and that malware was collecting credit card information and transferring that credit card information outside of the Target network. \n",
    "\n",
    "This started with an HVAC vendor, and this vendor got infected prior to connecting to the Target network - they were infected through an email attachment and they did not have any type of anti-virus or anti-malware on their individual workstations. \n",
    "\n",
    "When the vendor then connected to the Target network, the malware found its way onto the Target servers and unfortunately, Target didn’t have any segmentation in place that would prevent malware from jumping from the vendor network onto the corporate network. \n",
    "\n",
    "Once that malware got on the inside, the attackers were able to gain access to every point of sale device, they were able to install their malware, and ultimately they collected over 110 million credit card numbers."
   ]
  },
  {
   "cell_type": "markdown",
   "id": "7b10c3a2",
   "metadata": {},
   "source": [
    "< [Table of Contents](#top) | [References](#references) >\n",
    "<a id=\"d\"></a>\n",
    "***\n",
    "###### Supply Chain\n",
    "***"
   ]
  },
  {
   "cell_type": "markdown",
   "id": "ce3d5337",
   "metadata": {},
   "source": [
    "Another concern from third-party vendors is the supply chain. \n",
    "\n",
    "The supply chain is the process involved when creating a product, so this might be separate organizations, it might be people involved in the process, and it might be the resources that we receive in order to create the product. \n",
    "\n",
    "It becomes difficult to understand what security methods may be in place through every step of the supply chain. It may be useful to perform an assessment of the supply chain so that you understand the security risks. You need to understand how the product or the service gets from the supplier to the customer, we need to evaluate any coordination that may be in place between each group within the supply chain, we should then identify where we may be able to improve the security in the supply chain process. We should also understand the IT systems that are supporting the supply chain process, and if we need to make changes to the process, we can document that as well."
   ]
  },
  {
   "cell_type": "markdown",
   "id": "1ce9ff85",
   "metadata": {},
   "source": [
    "< [Table of Contents](#top) | [References](#references) >\n",
    "<a id=\"e\"></a>\n",
    "***\n",
    "###### March/June 2020 - Solarwinds\n",
    "***"
   ]
  },
  {
   "cell_type": "markdown",
   "id": "10ef471c",
   "metadata": {},
   "source": [
    "If we don’t pay attention to the security in the supply chain, the results can be disastrous, for example, between March and June of 2020, a software update that was provided from a network management provider installed malware onto their customers systems. \n",
    "\n",
    "Not made aware of this until December of 2020 when SolarWinds announced that this update that was provided to the customers could potentially install malware as well. \n",
    "\n",
    "Because the malware was installed onto the SolarWind servers, it was put into the update and digitally signed with the SolarWind certificate - this meant that customers receiving this update, validated the digital signature and trusted the information they were receiving from SolarWinds. \n",
    "\n",
    "After analyzing the customers who had installed this update, of the 300,000 customers of SolarWinds for this product, at least 18,000 companies were infected. \n",
    "\n",
    "This was a significant breach and it was able to gain access to thousands of networks by taking advantage of the supply chain."
   ]
  },
  {
   "cell_type": "markdown",
   "id": "d87809fd",
   "metadata": {},
   "source": [
    "< [Table of Contents](#top) | [References](#references) >\n",
    "<a id=\"f\"></a>\n",
    "***\n",
    "###### Business Partners\n",
    "***"
   ]
  },
  {
   "cell_type": "markdown",
   "id": "a5265a2e",
   "metadata": {},
   "source": [
    "Your organization may have a third-party you work with very closely, that’s not a vendor but more of a business partner. \n",
    "\n",
    "In that particular case, there may even be direct network connections between your corporate network and the network on the business partner side - because of this relatively open path between the two organizations, there could be significant security concerns that have to be addressed. \n",
    "\n",
    "For example, it’s very common to build an IPsec connection between the organizations and transfer information through that encrypted tunnel. That also means that there’s now an easy way to move data between one network and the other, so it’s important to be able to monitor this for any malicious activity.\n",
    "\n",
    "Because of this, there should be some policies in place to handle risks, so we should understand what the best practices are for that connection between ourselves and the business partner, we should understand the best way to handle data between these two organizations, and understand how intellectual property should be handled. \n",
    "\n",
    "In a configuration like this between business partners, it’s not unusual to include a firewall or some type of filter so that you can manage exactly what type of traffic can be transferred between the two networks."
   ]
  },
  {
   "cell_type": "markdown",
   "id": "1256d7bf",
   "metadata": {},
   "source": [
    "< [Table of Contents](#top) | [References](#references) >\n",
    "<a id=\"g\"></a>\n",
    "***\n",
    "###### Common Agreements - Service Level Agreement - ``SLA`` - Memorandum Of Understanding - ``MOU`` - Measurement System Analysis - ``MSA`` - Business Partnership Agreement - ``BPA``\n",
    "***"
   ]
  },
  {
   "cell_type": "markdown",
   "id": "6de91572",
   "metadata": {},
   "source": [
    "When working with third-parties, it’s very common to use different agreements - one of these would be a Service Level Agreement (``SLA``), which sets a minimum set of service terms for particular service or product, for example, if you have a third-party that you contract with for internet access, there may be an uptime or response time agreement to provide a minimum level of service for that internet connection. \n",
    "\n",
    "These are common contracts to have with service providers, so that everyone understands what the minimum service level should be, and you understand what happens if that service level isn’t met. \n",
    "\n",
    "For agreements with a third-party that don’t require a full blown contract, you may use something like a Memorandum Of Understanding (``MOU``) - this is a memo that is sent between two different parties so that they understand what the requirements might be for a particular business process - this might even have information inside that would be confidential between the two organizations. Can think of this as an informal letter of intent that may not necessarily have the binding qualities of a contract, but it does inform both sides of what the expectations might be.\n",
    "\n",
    "If you’re working with a quality management system, for example Six Sigma, then you may be familiar with a Measurement System Analysis (``MSA``) - this provides a way for a company to evaluate and assess the quality of the process used in their measurement systems. If you’re making business decisions based on a measurement system, it’s good to know that the measurement system itself is accurate. The measurement system analysis will assess the measurement process itself, and then be able to calculate any uncertainty that may be in place during the measurement process. \n",
    "\n",
    "If planning to go into business with a third-party, you may want to create a Business Partnership Agreement (``BPA``) - this provides details about what the owners stake might be, you can understand what the contractual agreement is for the finances, part of this agreement may provide information on who gets to make certain decisions, and there may be contingency arrangements built into the business partnership agreement."
   ]
  },
  {
   "cell_type": "markdown",
   "id": "47707114",
   "metadata": {},
   "source": [
    "< [Table of Contents](#top) | [References](#references) >\n",
    "<a id=\"h\"></a>\n",
    "***\n",
    "###### Non-disclosure Agreement - ``NDA``\n",
    "***"
   ]
  },
  {
   "cell_type": "markdown",
   "id": "ab659d52",
   "metadata": {},
   "source": [
    "If working with a third-party and there’s a requirement to have some secrecy or privacy, then you may want to have a Non-disclosure Agreement (``NDA``). \n",
    "\n",
    "This creates confidentiality between parties, and it ensures that the information you’re sharing with each other is not going to be disclosed to others. \n",
    "\n",
    "Might have a non-disclosure agreement if you’re sharing trade secrets, if there’s certain business activities, or other information that you want to keep private within your organization’s. \n",
    "\n",
    "Non-disclosure agreements can be one way agreements, where only one person is required to maintain the privacy, or they could be mutual nondisclosure agreements where both parties agree to maintain privacy. \n",
    "\n",
    "Non-disclosure agreements may also apply to a single party as a unilateral agreement, or to multiple parties such as a bilateral or multilateral agreement - these are usually formal contracts and a signature is commonly required with a non-disclosure agreement."
   ]
  },
  {
   "cell_type": "markdown",
   "id": "9adeceaf",
   "metadata": {},
   "source": [
    "< [Table of Contents](#top) | [References](#references) >\n",
    "<a id=\"i\"></a>\n",
    "***\n",
    "###### Product Support Lifetime - End of Life - ``EOL`` - End Of Service Life - ``EOSL``\n",
    "***"
   ]
  },
  {
   "cell_type": "markdown",
   "id": "dea1a357",
   "metadata": {},
   "source": [
    "Another important security concern when working with third-parties, is understanding when a products end of life might be - this is when a manufacturer stops selling a product, and stops supporting a product - this certainly can be important, especially if you’re relying on that vendor to provide ongoing security patches. \n",
    "\n",
    "When a manufacturer commonly announces end of life, that may be a case where they’re not selling the product any longer, but they do continue to support the product.\n",
    "\n",
    "The next phase in this is probably the End Of Service Life (``EOSL``) - this is when the vendor is not selling the product, and they’ve decided to no longer support the product. This means that you won’t receive any additional security patches, there’ll be no more updates to the software, although there may be an option to pay an additional premium fee to continue receiving security patches. \n",
    "\n",
    "It’s important that a security team understand when a product’s end of life and end of service life might be, so they can make arrangements to maintain the security of those systems."
   ]
  },
  {
   "cell_type": "markdown",
   "id": "2cc20932",
   "metadata": {},
   "source": [
    "***\n",
    "## END"
   ]
  },
  {
   "cell_type": "markdown",
   "id": "e0e42d51",
   "metadata": {},
   "source": [
    "< [Table of Contents](#top) >\n",
    "<a id=\"references\"></a>\n",
    "***\n",
    "## References\n",
    "***"
   ]
  },
  {
   "cell_type": "markdown",
   "id": "f8aaecbc",
   "metadata": {},
   "source": [
    "J. \"Professor\" Messer, \"CompTIA Security+ (SY0-601) Course Notes,\" [professormesser.com](https://web.archive.org/web/20220521181010/https://www.professormesser.com/security-plus/sy0-601/sy0-601-video/sy0-601-comptia-security-plus-course/), September 2021."
   ]
  },
  {
   "cell_type": "markdown",
   "id": "b33c372a",
   "metadata": {},
   "source": [
    "***\n",
    "## END"
   ]
  },
  {
   "cell_type": "markdown",
   "id": "e5961b4d",
   "metadata": {},
   "source": [
    "< [Table of Contents](#top) | [References](#references) >\n",
    "<a id=\"appendix\"></a>\n",
    "***\n",
    "## Appendix\n",
    "***"
   ]
  },
  {
   "cell_type": "markdown",
   "id": "00d82a82",
   "metadata": {},
   "source": [
    "***\n",
    "## END"
   ]
  },
  {
   "cell_type": "code",
   "execution_count": 1,
   "id": "706756a2",
   "metadata": {},
   "outputs": [
    {
     "name": "stderr",
     "output_type": "stream",
     "text": [
      "C:\\Users\\SeanOhAileasa\\AppData\\Local\\Temp\\ipykernel_10328\\1322614208.py:1: DeprecationWarning: Importing display from IPython.core.display is deprecated since IPython 7.14, please import from IPython display\n",
      "  from IPython.core.display import display,HTML\n"
     ]
    },
    {
     "data": {
      "text/html": [
       "<style>.container { width:100% !important; }</style>"
      ],
      "text/plain": [
       "<IPython.core.display.HTML object>"
      ]
     },
     "metadata": {},
     "output_type": "display_data"
    }
   ],
   "source": [
    "from IPython.core.display import display,HTML\n",
    "display(HTML(\"<style>.container { width:100% !important; }</style>\"))"
   ]
  },
  {
   "cell_type": "markdown",
   "id": "899c1783",
   "metadata": {},
   "source": [
    "# END JUPYTER NOTEBOOK"
   ]
  }
 ],
 "metadata": {
  "kernelspec": {
   "display_name": "Python 3 (ipykernel)",
   "language": "python",
   "name": "python3"
  },
  "language_info": {
   "codemirror_mode": {
    "name": "ipython",
    "version": 3
   },
   "file_extension": ".py",
   "mimetype": "text/x-python",
   "name": "python",
   "nbconvert_exporter": "python",
   "pygments_lexer": "ipython3",
   "version": "3.9.12"
  }
 },
 "nbformat": 4,
 "nbformat_minor": 5
}
