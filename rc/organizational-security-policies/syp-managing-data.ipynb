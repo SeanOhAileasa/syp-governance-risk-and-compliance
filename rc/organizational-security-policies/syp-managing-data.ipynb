{
 "cells": [
  {
   "cell_type": "markdown",
   "id": "d4ee9e4b",
   "metadata": {},
   "source": [
    "***\n",
    "< [Home](https://github.com/SeanOhAileasa) | [README](https://github.com/SeanOhAileasa/syp-governance-risk-and-compliance/blob/main/README.md) >\n",
    "\n",
    "## CompTIA Security+ - Course Material 2022\n",
    "###### Topic: ``Managing Data``\n",
    "***"
   ]
  },
  {
   "cell_type": "markdown",
   "id": "b82b07fb",
   "metadata": {},
   "source": [
    "Course material for the ``CompTIA Security+`` module of the ``ICT Associate Apprenticeship (Cybersecurity)`` programme."
   ]
  },
  {
   "cell_type": "markdown",
   "id": "e7228f57",
   "metadata": {},
   "source": [
    "<a id=\"top\"></a>\n",
    "***\n",
    "## Table of Contents\n",
    "***"
   ]
  },
  {
   "cell_type": "markdown",
   "id": "c2bb5e7b",
   "metadata": {},
   "source": [
    "### [Managing Data](#a) <br/><br/>\n",
    "\n",
    "- [Data Governance](#b) <br/><br/>\n",
    "    - [Data Steward](#b) <br/><br/>\n",
    "- [Data Classification](#c) <br/><br/>\n",
    "- [Data Retention](#d)\n",
    "<hr width=50%;>"
   ]
  },
  {
   "cell_type": "markdown",
   "id": "bf2b95e2",
   "metadata": {},
   "source": [
    "***\n",
    "## END"
   ]
  },
  {
   "cell_type": "markdown",
   "id": "34aa6eb5",
   "metadata": {},
   "source": [
    "< [Table of Contents](#top) | [References](#references) >\n",
    "<a id=\"a\"></a>\n",
    "***\n",
    "### Managing Data\n",
    "***"
   ]
  },
  {
   "cell_type": "markdown",
   "id": "84b00380",
   "metadata": {},
   "source": [
    "< [Table of Contents](#top) | [References](#references) >\n",
    "<a id=\"b\"></a>\n",
    "***\n",
    "###### Data Governance - Data Steward\n",
    "***"
   ]
  },
  {
   "cell_type": "markdown",
   "id": "9e06008b",
   "metadata": {},
   "source": [
    "If an organization is collecting data, then there needs to be a set of processes and procedures on how to manage this data - these rules, regulations, and accountability parameters ensure that the data will be used in the right way in the organization.\n",
    "\n",
    "The person in charge of managing this data governance is the Data Steward, this is the person who is responsible for data privacy, for making sure that the data is accurate and ensuring that all of the data remain secure - this is also the person or the group that will decide what type of sensitivity label is going to be associated with this data.\n",
    "\n",
    "There’s often compliance regulations and laws that have to be followed depending on the type of data that you’re storing and the data governance process ensures that this data will be categorized and managed properly. \n",
    "\n",
    "Usually, there are a set of rules created internally on how to manage this data and it’s important that everyone in the organization understand how the data should be used properly and how it should be secured."
   ]
  },
  {
   "cell_type": "markdown",
   "id": "b4da2efe",
   "metadata": {},
   "source": [
    "< [Table of Contents](#top) | [References](#references) >\n",
    "<a id=\"c\"></a>\n",
    "***\n",
    "###### Data Classification\n",
    "***"
   ]
  },
  {
   "cell_type": "markdown",
   "id": "eeeb7b70",
   "metadata": {},
   "source": [
    "The Data Steward will look through the data and determine what labels are associated with these data types, so we’ll need to identify if the data is personal data, if it happens to be public information, or if this information should be restricted. \n",
    "\n",
    "By identifying these data types, the Data Steward can ensure that the data is used properly and the data is secured properly.\n",
    "\n",
    "Once the data type has been identified, the Data Steward can then apply the proper rules and procedures for that type of data, for example, there may be compliance laws associated with the data and if it is personal data or something that could be private to an individual and you happen to be in the European Union, it might fall under the ``GDPR``, or the General Data Protection Regulation, which means that the data would be handled differently than if it was public data."
   ]
  },
  {
   "cell_type": "markdown",
   "id": "7b10c3a2",
   "metadata": {},
   "source": [
    "< [Table of Contents](#top) | [References](#references) >\n",
    "<a id=\"d\"></a>\n",
    "***\n",
    "###### Data Retention\n",
    "***"
   ]
  },
  {
   "cell_type": "markdown",
   "id": "c1b00d86",
   "metadata": {},
   "source": [
    "There might also be reasons for retaining data, especially data that might change often - this might even go beyond what is normally done with a daily or weekly backup - very often the data retention process can save different versions of a file, sometimes over a number of days or weeks.\n",
    "\n",
    "These data retention policies might also help us if we run into a virus infection - if we know that we’re retaining data at least 30 days old, then we have a window of time or we can discover whether a system may or may not have been infected and we can roll back to a previous version of known good data.\n",
    "\n",
    "The decision for determining what data should be retained and for how long may not be in your hands at all, there may be legal requirements for storing this type of data, for example, in some environments, you have to keep emails for a certain number of years. \n",
    "\n",
    "Some industries require the different data is stored in different ways - for example, a data type that contains corporate text information may have different rules and regulations than data that might be customers personally identifiable information. \n",
    "\n",
    "It’s important that the security team know exactly what type of data the organization might have, what the data retention policies are for the data, and that the processes are in place to maintain these data retention policies."
   ]
  },
  {
   "cell_type": "markdown",
   "id": "2cc20932",
   "metadata": {},
   "source": [
    "***\n",
    "## END"
   ]
  },
  {
   "cell_type": "markdown",
   "id": "e0e42d51",
   "metadata": {},
   "source": [
    "< [Table of Contents](#top) >\n",
    "<a id=\"references\"></a>\n",
    "***\n",
    "## References\n",
    "***"
   ]
  },
  {
   "cell_type": "markdown",
   "id": "f8aaecbc",
   "metadata": {},
   "source": [
    "J. \"Professor\" Messer, \"CompTIA Security+ (SY0-601) Course Notes,\" [professormesser.com](https://web.archive.org/web/20220521181010/https://www.professormesser.com/security-plus/sy0-601/sy0-601-video/sy0-601-comptia-security-plus-course/), September 2021."
   ]
  },
  {
   "cell_type": "markdown",
   "id": "b33c372a",
   "metadata": {},
   "source": [
    "***\n",
    "## END"
   ]
  },
  {
   "cell_type": "markdown",
   "id": "e5961b4d",
   "metadata": {},
   "source": [
    "< [Table of Contents](#top) | [References](#references) >\n",
    "<a id=\"appendix\"></a>\n",
    "***\n",
    "## Appendix\n",
    "***"
   ]
  },
  {
   "cell_type": "markdown",
   "id": "00d82a82",
   "metadata": {},
   "source": [
    "***\n",
    "## END"
   ]
  },
  {
   "cell_type": "code",
   "execution_count": 1,
   "id": "706756a2",
   "metadata": {},
   "outputs": [
    {
     "name": "stderr",
     "output_type": "stream",
     "text": [
      "C:\\Users\\SeanOhAileasa\\AppData\\Local\\Temp\\ipykernel_8288\\1322614208.py:1: DeprecationWarning: Importing display from IPython.core.display is deprecated since IPython 7.14, please import from IPython display\n",
      "  from IPython.core.display import display,HTML\n"
     ]
    },
    {
     "data": {
      "text/html": [
       "<style>.container { width:100% !important; }</style>"
      ],
      "text/plain": [
       "<IPython.core.display.HTML object>"
      ]
     },
     "metadata": {},
     "output_type": "display_data"
    }
   ],
   "source": [
    "from IPython.core.display import display,HTML\n",
    "display(HTML(\"<style>.container { width:100% !important; }</style>\"))"
   ]
  },
  {
   "cell_type": "markdown",
   "id": "899c1783",
   "metadata": {},
   "source": [
    "# END JUPYTER NOTEBOOK"
   ]
  }
 ],
 "metadata": {
  "kernelspec": {
   "display_name": "Python 3 (ipykernel)",
   "language": "python",
   "name": "python3"
  },
  "language_info": {
   "codemirror_mode": {
    "name": "ipython",
    "version": 3
   },
   "file_extension": ".py",
   "mimetype": "text/x-python",
   "name": "python",
   "nbconvert_exporter": "python",
   "pygments_lexer": "ipython3",
   "version": "3.9.12"
  }
 },
 "nbformat": 4,
 "nbformat_minor": 5
}
