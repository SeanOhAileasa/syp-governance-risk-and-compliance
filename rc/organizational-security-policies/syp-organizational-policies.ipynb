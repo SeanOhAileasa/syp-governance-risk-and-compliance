{
 "cells": [
  {
   "cell_type": "markdown",
   "id": "d4ee9e4b",
   "metadata": {},
   "source": [
    "***\n",
    "< [Home](https://github.com/SeanOhAileasa) | [README](https://github.com/SeanOhAileasa/syp-governance-risk-and-compliance/blob/main/README.md) >\n",
    "\n",
    "## CompTIA Security+ - Course Material 2022\n",
    "###### Topic: ``Organizational Policies``\n",
    "***"
   ]
  },
  {
   "cell_type": "markdown",
   "id": "b82b07fb",
   "metadata": {},
   "source": [
    "Course material for the ``CompTIA Security+`` module of the ``ICT Associate Apprenticeship (Cybersecurity)`` programme."
   ]
  },
  {
   "cell_type": "markdown",
   "id": "e7228f57",
   "metadata": {},
   "source": [
    "<a id=\"top\"></a>\n",
    "***\n",
    "## Table of Contents\n",
    "***"
   ]
  },
  {
   "cell_type": "markdown",
   "id": "c2bb5e7b",
   "metadata": {},
   "source": [
    "### [Organizational Policies](#a) <br/><br/>\n",
    "\n",
    "- [Change Management](#b) <br/><br/>\n",
    "- [Change Control](#c) <br/><br/>\n",
    "- [Asset Management](#d)\n",
    "<hr width=50%;>"
   ]
  },
  {
   "cell_type": "markdown",
   "id": "bf2b95e2",
   "metadata": {},
   "source": [
    "***\n",
    "## END"
   ]
  },
  {
   "cell_type": "markdown",
   "id": "34aa6eb5",
   "metadata": {},
   "source": [
    "< [Table of Contents](#top) | [References](#references) >\n",
    "<a id=\"a\"></a>\n",
    "***\n",
    "### Organizational Policies\n",
    "***"
   ]
  },
  {
   "cell_type": "markdown",
   "id": "84b00380",
   "metadata": {},
   "source": [
    "< [Table of Contents](#top) | [References](#references) >\n",
    "<a id=\"b\"></a>\n",
    "***\n",
    "###### Change Management\n",
    "***"
   ]
  },
  {
   "cell_type": "markdown",
   "id": "3a89153b",
   "metadata": {},
   "source": [
    "The one constant in it is that there’s always change - there will be software that needs to be upgraded, they’ll be firewall configurations that have to be changed, and they’ll be switch ports that need modification.\n",
    "\n",
    "If you’re working at home, you can unplug a device, you can change an operating system, reboot a machine and you’re back up and running but if you’re in the enterprise, making one single change can have a dramatic effect in the organization, and could completely bring everything to its knees - want to be sure that if you’re planning to make a change that you’re doing it in the right way.\n",
    "\n",
    "Unfortunately, not all organizations have the same perspective with change control and they’ll make changes throughout the day and cause applications to fail and networks to break. \n",
    "\n",
    "With change management, you can figure very clear policies on how changes are to be made - you know exactly when those changes occur, you know how long it takes to perform that particular change, you understand the entire process for the installation, and if you run into a problem, you’re already have fallback procedures that you can use.\n",
    "\n",
    "If your organization doesn’t have a corporate culture around change management, it’s very difficult to implement but if you spend the time to put in these policies, you’ll find that you have a much better control over the uptime and availability of your systems."
   ]
  },
  {
   "cell_type": "markdown",
   "id": "b4da2efe",
   "metadata": {},
   "source": [
    "< [Table of Contents](#top) | [References](#references) >\n",
    "<a id=\"c\"></a>\n",
    "***\n",
    "###### Change Control\n",
    "***"
   ]
  },
  {
   "cell_type": "markdown",
   "id": "5375ed63",
   "metadata": {},
   "source": [
    "The formal process for making these changes is called change control. \n",
    "\n",
    "By using change control, you can avoid unnecessary downtime confusion that may surround these changes and making mistakes during the change process. \n",
    "\n",
    "Change control manages this process from the very beginning of the change all the way through to the end - for example, you have to understand what the scope of the change happens to be, are you changing the software on a single network switch or are you updating the operating systems on every device in the organization. \n",
    "\n",
    "Also have to understand what the risk might be associated with the change - rolling a Microsoft patch to everyone’s workstation may cause these systems to have a problem when they reboot, and we need to understand what that particular risk might be.\n",
    "\n",
    "Once we understand the scope and the risks, we can create a plan for performing this particular update - this may be a simple plan for updating a single configuration in a switch or it may be a detailed plan for performing a database upgrade. \n",
    "\n",
    "Once the plans in place, we can get the approval from the users to be able to make this particular change and then we can present all of these plans to a change control board - this is a Central Committee that understands all of the changes taking place, they will approve or deny the change and they will put that change into the calendar.\n",
    "\n",
    "Perhaps, one of the most important steps of this entire process is that you have a backout plan - even the best made plans can run into problems, so it’s always a good idea to have a set of steps that will revert all of these changes and take you back to the original configuration.\n",
    "\n",
    "Once we make these changes we need to document everything so that we understand what the current state might be - this is a very detailed process and it’s obviously an important process for any organization - by having this change control process in place, you exactly when changes are going to occur, you understand what the scope of those changes might be, and you have a process for rolling back if you run into problems."
   ]
  },
  {
   "cell_type": "markdown",
   "id": "7b10c3a2",
   "metadata": {},
   "source": [
    "< [Table of Contents](#top) | [References](#references) >\n",
    "<a id=\"d\"></a>\n",
    "***\n",
    "###### Asset Management\n",
    "***"
   ]
  },
  {
   "cell_type": "markdown",
   "id": "5fbe8ba9",
   "metadata": {},
   "source": [
    "Another important organizational policy is the management of your devices. \n",
    "\n",
    "Need to understand where these devices are, we need to be able to track them as they move, and this is usually something that is done through an automated console. \n",
    "\n",
    "This not only allows us to understand where these assets might be, but if we run into a security problem, we know who is using that device, what they’re doing with this device, and where that device happens to be.\n",
    "\n",
    "This asset management not only includes the hardware on these devices, but it also includes the applications and the data that’s on these devices - need to be able to provide management of all of those components and be able to track and understand where every single bit of data might be.\n",
    "\n",
    "In some cases, you’ll also need a way to track the use of applications, some application licensing requires that you pay for a certain number of seats that are used for an application, so using Asset management can help you understand how much of that application is in use.\n",
    "\n",
    "From a security perspective, it’s useful to understand what devices someone might be using, what version of software they’re running, and if any security patches need to be pushed out to that device."
   ]
  },
  {
   "cell_type": "markdown",
   "id": "2cc20932",
   "metadata": {},
   "source": [
    "***\n",
    "## END"
   ]
  },
  {
   "cell_type": "markdown",
   "id": "e0e42d51",
   "metadata": {},
   "source": [
    "< [Table of Contents](#top) >\n",
    "<a id=\"references\"></a>\n",
    "***\n",
    "## References\n",
    "***"
   ]
  },
  {
   "cell_type": "markdown",
   "id": "f8aaecbc",
   "metadata": {},
   "source": [
    "J. \"Professor\" Messer, \"CompTIA Security+ (SY0-601) Course Notes,\" [professormesser.com](https://web.archive.org/web/20220521181010/https://www.professormesser.com/security-plus/sy0-601/sy0-601-video/sy0-601-comptia-security-plus-course/), September 2021."
   ]
  },
  {
   "cell_type": "markdown",
   "id": "b33c372a",
   "metadata": {},
   "source": [
    "***\n",
    "## END"
   ]
  },
  {
   "cell_type": "markdown",
   "id": "e5961b4d",
   "metadata": {},
   "source": [
    "< [Table of Contents](#top) | [References](#references) >\n",
    "<a id=\"appendix\"></a>\n",
    "***\n",
    "## Appendix\n",
    "***"
   ]
  },
  {
   "cell_type": "markdown",
   "id": "00d82a82",
   "metadata": {},
   "source": [
    "***\n",
    "## END"
   ]
  },
  {
   "cell_type": "code",
   "execution_count": 1,
   "id": "706756a2",
   "metadata": {},
   "outputs": [
    {
     "name": "stderr",
     "output_type": "stream",
     "text": [
      "C:\\Users\\SeanOhAileasa\\AppData\\Local\\Temp\\ipykernel_15068\\1322614208.py:1: DeprecationWarning: Importing display from IPython.core.display is deprecated since IPython 7.14, please import from IPython display\n",
      "  from IPython.core.display import display,HTML\n"
     ]
    },
    {
     "data": {
      "text/html": [
       "<style>.container { width:100% !important; }</style>"
      ],
      "text/plain": [
       "<IPython.core.display.HTML object>"
      ]
     },
     "metadata": {},
     "output_type": "display_data"
    }
   ],
   "source": [
    "from IPython.core.display import display,HTML\n",
    "display(HTML(\"<style>.container { width:100% !important; }</style>\"))"
   ]
  },
  {
   "cell_type": "markdown",
   "id": "899c1783",
   "metadata": {},
   "source": [
    "# END JUPYTER NOTEBOOK"
   ]
  }
 ],
 "metadata": {
  "kernelspec": {
   "display_name": "Python 3 (ipykernel)",
   "language": "python",
   "name": "python3"
  },
  "language_info": {
   "codemirror_mode": {
    "name": "ipython",
    "version": 3
   },
   "file_extension": ".py",
   "mimetype": "text/x-python",
   "name": "python",
   "nbconvert_exporter": "python",
   "pygments_lexer": "ipython3",
   "version": "3.9.12"
  }
 },
 "nbformat": 4,
 "nbformat_minor": 5
}
