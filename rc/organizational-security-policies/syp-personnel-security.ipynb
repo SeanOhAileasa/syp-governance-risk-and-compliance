{
 "cells": [
  {
   "cell_type": "markdown",
   "id": "d4ee9e4b",
   "metadata": {},
   "source": [
    "***\n",
    "< [Home](https://github.com/SeanOhAileasa) | [README](https://github.com/SeanOhAileasa/syp-governance-risk-and-compliance/blob/main/README.md) >\n",
    "\n",
    "## CompTIA Security+ - Course Material 2022\n",
    "###### Topic: ``Personnel Security``\n",
    "***"
   ]
  },
  {
   "cell_type": "markdown",
   "id": "b82b07fb",
   "metadata": {},
   "source": [
    "Course material for the ``CompTIA Security+`` module of the ``ICT Associate Apprenticeship (Cybersecurity)`` programme."
   ]
  },
  {
   "cell_type": "markdown",
   "id": "e7228f57",
   "metadata": {},
   "source": [
    "<a id=\"top\"></a>\n",
    "***\n",
    "## Table of Contents\n",
    "***"
   ]
  },
  {
   "cell_type": "markdown",
   "id": "c2bb5e7b",
   "metadata": {},
   "source": [
    "### [Personnel Security](#a) <br/><br/>\n",
    "\n",
    "- [Acceptable Use Policy](#b) <br/><br/>\n",
    "    - [``AUP``](#b) <br/><br/>\n",
    "- [Business Policies](#c) <br/><br/>\n",
    "    - [``Job Rotation``](#c) <br/><br/>\n",
    "    - [``Vacations``](#c) <br/><br/>\n",
    "    - [``Separation of Duties``](#c) <br/><br/>\n",
    "        - [Split Knowledge](#c) <br/><br/>\n",
    "        - [Dual Control](#c) <br/><br/>\n",
    "    -[``Clean Desk Policy``](#c) <br/><br/>\n",
    "- [Least Privilege](#d) <br/><br/>\n",
    "- [Background Checks](#e) <br/><br/>\n",
    "    - [``Adverse Action``](#e) <br/><br/>\n",
    "- [Personnel Security Procedures](#f) <br/><br/>\n",
    "    - [Non-Disclosure Agreement](#f) <br/><br/>\n",
    "    - [Social Media Analysis](#f) <br/><br/>\n",
    "- [On-boarding](#g) <br/><br/>\n",
    "- [Off-boarding](#h) <br/><br/>\n",
    "- [User Training](#i) <br/><br/>\n",
    "    - [Gamification](#i) <br/><br/>\n",
    "    - [Capture The Flag](#i) <br/><br/>\n",
    "        - [``CTF``](#i) <br/><br/>\n",
    "    - [Phishing / Vishing Simulation](#i) <br/><br/>\n",
    "    - [Computer-based Training](#i) <br/><br/>\n",
    "        - [``CBT``](#i) <br/><br/>\n",
    "- [Role-based Security Awareness Training](#j) \n",
    "<hr width=50%;>"
   ]
  },
  {
   "cell_type": "markdown",
   "id": "bf2b95e2",
   "metadata": {},
   "source": [
    "***\n",
    "## END"
   ]
  },
  {
   "cell_type": "markdown",
   "id": "34aa6eb5",
   "metadata": {},
   "source": [
    "< [Table of Contents](#top) | [References](#references) >\n",
    "<a id=\"a\"></a>\n",
    "***\n",
    "### Personnel Security\n",
    "***"
   ]
  },
  {
   "cell_type": "markdown",
   "id": "84b00380",
   "metadata": {},
   "source": [
    "< [Table of Contents](#top) | [References](#references) >\n",
    "<a id=\"b\"></a>\n",
    "***\n",
    "###### Acceptable Use Policy - ``AUP``\n",
    "***"
   ]
  },
  {
   "cell_type": "markdown",
   "id": "93748a11",
   "metadata": {},
   "source": [
    "Most organizations will have a documented set of rules called an Acceptable Use Policy (``AUP``).\n",
    "\n",
    "This is detailed documentation that covers how all of the different technologies in your environment should be used - this covers your internet use, your telephones, computers, mobile devices, tablets, and anything else that is technology in your company. \n",
    "\n",
    "It’s important to document this information so that you have something to go back to if one of these rules is broken - this provides the employer with a way to set expectations across everyone in the organization, and if any of these rules are violated, they can specify exactly which part of the ``AUP`` was not followed."
   ]
  },
  {
   "cell_type": "markdown",
   "id": "b4da2efe",
   "metadata": {},
   "source": [
    "< [Table of Contents](#top) | [References](#references) >\n",
    "<a id=\"c\"></a>\n",
    "***\n",
    "###### Business Policies - ``Job Rotation`` - ``Vacations`` - ``Separation of Duties`` [``Split Knowledge`` - ``Dual Control``] - ``Clean Desk Policy``\n",
    "***"
   ]
  },
  {
   "cell_type": "markdown",
   "id": "efc88dcb",
   "metadata": {},
   "source": [
    "In many organizations, there are security policies in place that help to minimize risk. \n",
    "\n",
    "One of these is a ``Job Rotation`` where you would have people rotate through different jobs and never stay in the same job for any long period of time - this means there would always be someone new in a position, and therefore less of a chance for someone to take advantage of a particular security issue. \n",
    "\n",
    "Another useful policy is to always require ``Vacations`` - this means that people would need to leave their job and go on vacation for a certain amount of time and usually when someone is on vacation, someone else is brought in to cover that person’s responsibilities - this is an opportunity for that person to make sure that everything is performing as expected, and it would limit the ability of any one person to commit a type of fraud - this is not a commonly seen business policy, but it’s one that you might run into if you work in a very high secure environment.\n",
    "\n",
    "Another set of business policies associated with security would be ``Separation of Duties``. One type of a separation of duty would be a ``Split Knowledge``. That means that one person might have some of the details, and another person would have the other part of the details. You can think of this split knowledge being used with something like a safe combination, where one person might have part of a safe combination and another person would have the other part of the safe combination. Individual users would not be able to open the safe on their own and we would need to gather the knowledge from everyone to have the full combination.\n",
    "\n",
    "This is similar to ``Dual Control`` where two people have to be there in person to be able to perform this particular business function. Instead of knowledge of a combination, perhaps the users have keys and to be able to open the safe both users have to turn both keys simultaneously. In that particular case, they would need to be present and that would be dual control. \n",
    "\n",
    "In environments where you’re working with very sensitive data you may have a ``Clean Desk Policy`` - this means if you ever get up and leave your desk for any reason, you have to make sure that no information is left on your desk - this means if you get up to get some coffee, you go to lunch, or you leave for the day, you have to clean your desk, lock everything away, and only then can you leave your desk."
   ]
  },
  {
   "cell_type": "markdown",
   "id": "7b10c3a2",
   "metadata": {},
   "source": [
    "< [Table of Contents](#top) | [References](#references) >\n",
    "<a id=\"d\"></a>\n",
    "***\n",
    "###### Least Privilege\n",
    "***"
   ]
  },
  {
   "cell_type": "markdown",
   "id": "53e6bfaa",
   "metadata": {},
   "source": [
    "Don’t want to assign every user to have administrator access, otherwise everyone would have access to all of the data. Instead, you want to configure each user with a least privileged policy - this means that the rights and permissions for that user should only allow them to do their job and nothing beyond that. \n",
    "\n",
    "This means that every account that you have in your organization must have limits that are focused on the needs of that user. Applications should be configured to run with minimal privileges that will only allow that application to operate, and nothing beyond that scope. We never want to assign access to users that go beyond the scope of their position, and we certainly don’t want to assign administrator access to every user in the organization.\n",
    "\n",
    "This also limits the scope of what malicious software might be able to do if they get on a user’s workstation - if the user’s permissions are limited, then the malware will also be limited - if the user has full rights and permissions as an administrator then the malware would also have rights as an administrator and we want to be able to limit the scope of malicious software by configuring least privilege. "
   ]
  },
  {
   "cell_type": "markdown",
   "id": "1ce9ff85",
   "metadata": {},
   "source": [
    "< [Table of Contents](#top) | [References](#references) >\n",
    "<a id=\"e\"></a>\n",
    "***\n",
    "###### Background Checks - ``Adverse Action``\n",
    "***"
   ]
  },
  {
   "cell_type": "markdown",
   "id": "df16fda7",
   "metadata": {},
   "source": [
    "If applying for a job, an employer will commonly run a background check - this is a screening that is done prior to employment to verify the information that you provided in your application and on your resume.\n",
    "\n",
    "Background checks can provide credit information, it can identify any criminal history, or other information that can help the employer make a decision on whether to hire that person. \n",
    "\n",
    "The details of what an organization may be able to discover with a background check will vary from location to location, so you want to check with the rules and regulations in your geography to see what options are available for you. \n",
    "\n",
    "If a background check is done and an employer decides not to hire someone based on the information in that background check, we refer to that as an ``Adverse Action`` - this may require extensive documentation to be provided for the applicant so that they understand exactly what information was gathered during the background check and why the company decided not to hire them based on that information. \n",
    "\n",
    "In some jurisdictions an organization may be allowed to run background checks on existing employees, and if they find something appearing in the background check they might also provide an adverse action."
   ]
  },
  {
   "cell_type": "markdown",
   "id": "d87809fd",
   "metadata": {},
   "source": [
    "< [Table of Contents](#top) | [References](#references) >\n",
    "<a id=\"f\"></a>\n",
    "***\n",
    "###### Personnel Security Procedures - ``NDA`` - Social Media Analysis\n",
    "***"
   ]
  },
  {
   "cell_type": "markdown",
   "id": "b4a44af8",
   "metadata": {},
   "source": [
    "If you’re ever working with a third party that would like to limit the information that could be shared, they may ask you to sign a Non-Disclosure Agreement (``NDA``) - this is a confidentiality agreement where both sides will agree what information can be shared, and what information should be kept private. \n",
    "\n",
    "These are relatively common contracts and they’re used constantly to ensure privacy between two parties. \n",
    "\n",
    "Another procedure that’s commonly done during the hiring process, is to evaluate someone’s presence on social media. The employer will gather information from social media such as your Facebook, Twitter, LinkedIn or Instagram profile to understand more about your presence on the internet. Since it’s difficult to get an accurate representation of somebody in a single interview, using a social media analysis can provide more context and help a company make a hiring decision with an individual."
   ]
  },
  {
   "cell_type": "markdown",
   "id": "1256d7bf",
   "metadata": {},
   "source": [
    "< [Table of Contents](#top) | [References](#references) >\n",
    "<a id=\"g\"></a>\n",
    "***\n",
    "###### On-boarding\n",
    "***"
   ]
  },
  {
   "cell_type": "markdown",
   "id": "bfb66082",
   "metadata": {},
   "source": [
    "Decided to hire someone, will begin the on-boarding process where we’ll bring on a new person, or bring in a transfer to the organization. \n",
    "\n",
    "On the IT side, there are a number of steps that have to be followed during this on-boarding process, for example, there may be agreements that need to be signed such as the employee handbook, or an ``AUP``. \n",
    "\n",
    "This user will need accounts to log in to the network, they’ll need a phone number, and they’ll need emails for communication and if they don’t currently have a system to use, we’ll need to provide them with a desktop, a laptop, or some type of mobile device to use for their daily work."
   ]
  },
  {
   "cell_type": "markdown",
   "id": "47707114",
   "metadata": {},
   "source": [
    "< [Table of Contents](#top) | [References](#references) >\n",
    "<a id=\"h\"></a>\n",
    "***\n",
    "###### Off-boarding\n",
    "***"
   ]
  },
  {
   "cell_type": "markdown",
   "id": "b0d3acb9",
   "metadata": {},
   "source": [
    "Just as we need a set of procedures for on-boarding, we also need a set of procedures for off-boarding. \n",
    "\n",
    "Should be something that should be well planned prior to someone leaving the organization, so that you know exactly what process should be followed with the technology that they use, for example, if they have a laptop or mobile device, then there needs to be a process for turning in that equipment and verifying that it has been returned. \n",
    "\n",
    "Also need to understand what happens with the data that they’ve been using - there may be important documents, and information that’s encrypted and we need to be sure we have access to those details.\n",
    "\n",
    "That’s why it’s very common to often disable the account that someone might use, so they’re not able to log in, but we’re not deleting anything from their account, especially not deleting any of their encryption keys. "
   ]
  },
  {
   "cell_type": "markdown",
   "id": "9adeceaf",
   "metadata": {},
   "source": [
    "< [Table of Contents](#top) | [References](#references) >\n",
    "<a id=\"i\"></a>\n",
    "***\n",
    "###### User Training - Gamification - Capture The Flag - ``CTF`` - Phishing / Vishing Simulation - Computer-based Training - ``CBT``\n",
    "***"
   ]
  },
  {
   "cell_type": "markdown",
   "id": "c99537f6",
   "metadata": {},
   "source": [
    "Training is always important and many organizations have shifted to a Gamification style of training where they can train and give people points, have them compete with others, and have them collect badges that show that they’ve progressed in the training. \n",
    "\n",
    "Another type of training, especially for security professionals is a Capture The Flag (``CTF``) - this is usually a security related competition where someone is trying to hack into a system to gain access to data - if you’re part of the red team and you’re responsible for finding ways into systems, capture the flag can be a good way to keep your skills up and to be aware of some of the most recent vulnerabilities and attacks.\n",
    "\n",
    "Might also provide training for our user community in the form of Phishing Simulations - this is where we would send phishing emails to our users, convince them to click on the links inside of the email, which would bring them to a website, which would ask for their login credentials or this might be Vishing, where we’re doing voice phishing over the phone to see if we can get information from our end users - if someone does provide information during the simulation, then we can do additional training so that they are aware of exactly what happened and how to prevent this in the future.\n",
    "\n",
    "and if you’re watching this video, then you’re participating in computer-based training - not sitting in a training class, this isn’t a live event that you’re attending, this is something that you’re doing on your own time or in time that you can schedule on a computer - this often includes video, audio, Q&A, or some of the games mentioned earlier. Instead of sitting in a training room and receiving a different type of training that perhaps someone else may be receiving, they can take computer-based training and everyone would receive exactly the same training."
   ]
  },
  {
   "cell_type": "markdown",
   "id": "fd680b58",
   "metadata": {},
   "source": [
    "< [Table of Contents](#top) | [References](#references) >\n",
    "<a id=\"j\"></a>\n",
    "***\n",
    "###### Role-based Security Awareness Training\n",
    "***"
   ]
  },
  {
   "cell_type": "markdown",
   "id": "dd4f1bf6",
   "metadata": {},
   "source": [
    "In some organizations, users are required to go through an IT security program before they gain access to the network - this might be a training that is specific to the role that they have in the organization, so they receive a specialized training that prepares them for their job role. \n",
    "\n",
    "These types of training sessions might also apply to partners or vendors that would access your network, to ensure that they understand the minimum security requirements for their access as well. \n",
    "\n",
    "In some environments, it’s important that everyone receive this training, so it’s useful to keep detailed records to ensure that everyone is informed of all the security requirements."
   ]
  },
  {
   "cell_type": "markdown",
   "id": "2cc20932",
   "metadata": {},
   "source": [
    "***\n",
    "## END"
   ]
  },
  {
   "cell_type": "markdown",
   "id": "e0e42d51",
   "metadata": {},
   "source": [
    "< [Table of Contents](#top) >\n",
    "<a id=\"references\"></a>\n",
    "***\n",
    "## References\n",
    "***"
   ]
  },
  {
   "cell_type": "markdown",
   "id": "f8aaecbc",
   "metadata": {},
   "source": [
    "J. \"Professor\" Messer, \"CompTIA Security+ (SY0-601) Course Notes,\" [professormesser.com](https://web.archive.org/web/20220521181010/https://www.professormesser.com/security-plus/sy0-601/sy0-601-video/sy0-601-comptia-security-plus-course/), September 2021."
   ]
  },
  {
   "cell_type": "markdown",
   "id": "b33c372a",
   "metadata": {},
   "source": [
    "***\n",
    "## END"
   ]
  },
  {
   "cell_type": "markdown",
   "id": "e5961b4d",
   "metadata": {},
   "source": [
    "< [Table of Contents](#top) | [References](#references) >\n",
    "<a id=\"appendix\"></a>\n",
    "***\n",
    "## Appendix\n",
    "***"
   ]
  },
  {
   "cell_type": "markdown",
   "id": "00d82a82",
   "metadata": {},
   "source": [
    "***\n",
    "## END"
   ]
  },
  {
   "cell_type": "code",
   "execution_count": 1,
   "id": "706756a2",
   "metadata": {},
   "outputs": [
    {
     "name": "stderr",
     "output_type": "stream",
     "text": [
      "C:\\Users\\SeanOhAileasa\\AppData\\Local\\Temp\\ipykernel_10204\\1322614208.py:1: DeprecationWarning: Importing display from IPython.core.display is deprecated since IPython 7.14, please import from IPython display\n",
      "  from IPython.core.display import display,HTML\n"
     ]
    },
    {
     "data": {
      "text/html": [
       "<style>.container { width:100% !important; }</style>"
      ],
      "text/plain": [
       "<IPython.core.display.HTML object>"
      ]
     },
     "metadata": {},
     "output_type": "display_data"
    }
   ],
   "source": [
    "from IPython.core.display import display,HTML\n",
    "display(HTML(\"<style>.container { width:100% !important; }</style>\"))"
   ]
  },
  {
   "cell_type": "markdown",
   "id": "899c1783",
   "metadata": {},
   "source": [
    "# END JUPYTER NOTEBOOK"
   ]
  }
 ],
 "metadata": {
  "kernelspec": {
   "display_name": "Python 3 (ipykernel)",
   "language": "python",
   "name": "python3"
  },
  "language_info": {
   "codemirror_mode": {
    "name": "ipython",
    "version": 3
   },
   "file_extension": ".py",
   "mimetype": "text/x-python",
   "name": "python",
   "nbconvert_exporter": "python",
   "pygments_lexer": "ipython3",
   "version": "3.9.12"
  }
 },
 "nbformat": 4,
 "nbformat_minor": 5
}
